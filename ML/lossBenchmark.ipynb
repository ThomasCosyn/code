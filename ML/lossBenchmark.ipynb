{
 "cells": [
  {
   "cell_type": "markdown",
   "metadata": {},
   "source": [
    "# Loss Benchmark for Catboost MultiClass Classification\n",
    "\n",
    "This notebook aims at understanding what wan be the best loss function to use to train the model for our multiclass classification problem"
   ]
  },
  {
   "cell_type": "markdown",
   "metadata": {},
   "source": [
    "## I. Dataset loading"
   ]
  },
  {
   "cell_type": "code",
   "execution_count": 2,
   "metadata": {},
   "outputs": [
    {
     "name": "stdout",
     "output_type": "stream",
     "text": [
      "Dataset loading...\n",
      "Data cleaning...\n",
      "Spliting in train and test...\n",
      "Taille du dataset de train : 206130\n",
      "Taille du dataset de test : 51532\n"
     ]
    }
   ],
   "source": [
    "import pandas as pd\n",
    "from catboost import CatBoostClassifier, Pool\n",
    "import sklearn.metrics as skl\n",
    "import matplotlib.pyplot as plt\n",
    "import os\n",
    "\n",
    "os.chdir(\"C:/Users/thoma/OneDrive - CentraleSupelec/NOPLP/code/ML\")\n",
    "\n",
    "# Chargement du dataset\n",
    "print(\"Dataset loading...\")\n",
    "df = pd.read_csv(\"data/lossBenchmarkData.csv\", sep=\";\")\n",
    "\n",
    "# Data Cleaning\n",
    "print(\"Data cleaning...\")\n",
    "df = df.drop(columns=['Unnamed: 0', 'id', 'Chanson_id'])\n",
    "reversed_cat = {'50': 1, '40': 2, '30': 3,\n",
    "                '20': 4, '10': 5, 'MC': 6, '20k': 7, None: 8}\n",
    "df = df.replace({'categorie': reversed_cat})\n",
    "\n",
    "# Split train / test\n",
    "print(\"Spliting in train and test...\")\n",
    "train = df[0:int(len(df)*0.8)]\n",
    "print(\"Taille du dataset de train : \" + str(len(train)))\n",
    "test = df[int(len(df)*0.8)+1:]\n",
    "print(\"Taille du dataset de test : \" + str(len(test)))\n",
    "train_labels = train['categorie']\n",
    "train = train.drop(columns=['categorie'])\n",
    "train_data = train\n",
    "test_labels = test['categorie']\n",
    "test = test.drop(columns=['categorie'])\n",
    "test_data = test\n",
    "test_pool = Pool(test_data,\n",
    "                 test_labels,\n",
    "                 cat_features=['titre', 'artiste'])"
   ]
  },
  {
   "cell_type": "markdown",
   "metadata": {},
   "source": [
    "## II. Loss multiclass classique\n",
    "\n",
    "Let $N$ be the size of the sample, $t_i$ the label of the i-th row, $a_i = model(row_i)$. <br/>\n",
    "Knowing that we have $8$ classes : 50, 40, 30, 20, 10, MC, 20k, PP <br/>\n",
    "$$Loss = \\sum_{i=1}^Nlog(\\frac{exp(a_{it_i})}{\\sum_{j=1}^8exp(a_{ij})})$$\n",
    "Let's train the model with this loss function and compute the loss for a few rows"
   ]
  },
  {
   "cell_type": "code",
   "execution_count": 3,
   "metadata": {},
   "outputs": [
    {
     "name": "stdout",
     "output_type": "stream",
     "text": [
      "Training the CatBoost model...\n",
      "0:\tlearn: 0.0835630\ttotal: 1.48s\tremaining: 13.3s\n",
      "1:\tlearn: 0.5917520\ttotal: 2.96s\tremaining: 11.8s\n",
      "2:\tlearn: 1.1319395\ttotal: 4.19s\tremaining: 9.79s\n",
      "3:\tlearn: 1.1233489\ttotal: 5.42s\tremaining: 8.12s\n",
      "4:\tlearn: 1.1151886\ttotal: 6.76s\tremaining: 6.76s\n",
      "5:\tlearn: 1.0755618\ttotal: 7.98s\tremaining: 5.32s\n",
      "6:\tlearn: 1.0442403\ttotal: 9.24s\tremaining: 3.96s\n",
      "7:\tlearn: 1.0639025\ttotal: 10.5s\tremaining: 2.63s\n",
      "8:\tlearn: 1.0210985\ttotal: 12s\tremaining: 1.34s\n",
      "9:\tlearn: 1.0189583\ttotal: 13.4s\tremaining: 0us\n"
     ]
    },
    {
     "data": {
      "text/plain": [
       "<catboost.core.CatBoostClassifier at 0x22fa7bac188>"
      ]
     },
     "execution_count": 3,
     "metadata": {},
     "output_type": "execute_result"
    }
   ],
   "source": [
    "# Training model\n",
    "print(\"Training the CatBoost model...\")\n",
    "model = CatBoostClassifier(iterations=10,\n",
    "                           depth=10,\n",
    "                           learning_rate=1,\n",
    "                           loss_function='MultiClass',\n",
    "                           verbose=True)\n",
    "model.fit(train_data, train_labels, cat_features=[\n",
    "          'titre', 'artiste'])"
   ]
  },
  {
   "cell_type": "code",
   "execution_count": 18,
   "metadata": {},
   "outputs": [
    {
     "name": "stdout",
     "output_type": "stream",
     "text": [
      "Predicting on the test set...\n"
     ]
    }
   ],
   "source": [
    "# Prediction on test set\n",
    "print(\"Predicting on the test set...\")\n",
    "preds_class = model.predict(test_pool)\n",
    "preds_proba = model.predict_proba(test_pool)\n",
    "preds = model.predict_log_proba(test_pool)\n",
    "\n",
    "# Modification du dataset de test\n",
    "test_data[\"pred\"] = preds_class\n",
    "test_data[\"labels\"] = test_labels\n",
    "test_data[[\"1\", \"2\", \"3\", \"4\", \"5\", \"6\", \"7\", \"8\"]] = preds"
   ]
  },
  {
   "cell_type": "markdown",
   "metadata": {},
   "source": [
    "Dépivotage pour obtenir le $a_{it_i}$ puis repivotage"
   ]
  },
  {
   "cell_type": "code",
   "execution_count": 27,
   "metadata": {},
   "outputs": [
    {
     "data": {
      "text/html": [
       "<div>\n",
       "<style scoped>\n",
       "    .dataframe tbody tr th:only-of-type {\n",
       "        vertical-align: middle;\n",
       "    }\n",
       "\n",
       "    .dataframe tbody tr th {\n",
       "        vertical-align: top;\n",
       "    }\n",
       "\n",
       "    .dataframe thead th {\n",
       "        text-align: right;\n",
       "    }\n",
       "</style>\n",
       "<table border=\"1\" class=\"dataframe\">\n",
       "  <thead>\n",
       "    <tr style=\"text-align: right;\">\n",
       "      <th></th>\n",
       "      <th>labels</th>\n",
       "      <th>variable</th>\n",
       "      <th>value</th>\n",
       "    </tr>\n",
       "  </thead>\n",
       "  <tbody>\n",
       "    <tr>\n",
       "      <th>17379</th>\n",
       "      <td>8</td>\n",
       "      <td>1</td>\n",
       "      <td>-1159.449307</td>\n",
       "    </tr>\n",
       "    <tr>\n",
       "      <th>408560</th>\n",
       "      <td>8</td>\n",
       "      <td>8</td>\n",
       "      <td>-0.002942</td>\n",
       "    </tr>\n",
       "    <tr>\n",
       "      <th>2246</th>\n",
       "      <td>8</td>\n",
       "      <td>1</td>\n",
       "      <td>-3.555320</td>\n",
       "    </tr>\n",
       "    <tr>\n",
       "      <th>411164</th>\n",
       "      <td>8</td>\n",
       "      <td>8</td>\n",
       "      <td>-0.009653</td>\n",
       "    </tr>\n",
       "    <tr>\n",
       "      <th>391310</th>\n",
       "      <td>8</td>\n",
       "      <td>8</td>\n",
       "      <td>-0.004699</td>\n",
       "    </tr>\n",
       "  </tbody>\n",
       "</table>\n",
       "</div>"
      ],
      "text/plain": [
       "        labels variable        value\n",
       "17379        8        1 -1159.449307\n",
       "408560       8        8    -0.002942\n",
       "2246         8        1    -3.555320\n",
       "411164       8        8    -0.009653\n",
       "391310       8        8    -0.004699"
      ]
     },
     "execution_count": 27,
     "metadata": {},
     "output_type": "execute_result"
    }
   ],
   "source": [
    "test_df = pd.melt(test_data, id_vars = [\"labels\"], value_vars = [\"1\", \"2\", \"3\", \"4\", \"5\", \"6\", \"7\", \"8\"])\n",
    "test_df.sample(5)"
   ]
  },
  {
   "cell_type": "markdown",
   "metadata": {},
   "source": [
    "Loss calculation on a few lines"
   ]
  },
  {
   "cell_type": "code",
   "execution_count": 28,
   "metadata": {},
   "outputs": [
    {
     "data": {
      "text/html": [
       "<div>\n",
       "<style scoped>\n",
       "    .dataframe tbody tr th:only-of-type {\n",
       "        vertical-align: middle;\n",
       "    }\n",
       "\n",
       "    .dataframe tbody tr th {\n",
       "        vertical-align: top;\n",
       "    }\n",
       "\n",
       "    .dataframe thead th {\n",
       "        text-align: right;\n",
       "    }\n",
       "</style>\n",
       "<table border=\"1\" class=\"dataframe\">\n",
       "  <thead>\n",
       "    <tr style=\"text-align: right;\">\n",
       "      <th></th>\n",
       "      <th>titre</th>\n",
       "      <th>année</th>\n",
       "      <th>decennie</th>\n",
       "      <th>artiste</th>\n",
       "      <th>clusterid</th>\n",
       "      <th>deltadate</th>\n",
       "      <th>deltadatemc</th>\n",
       "      <th>deltadatemcma</th>\n",
       "      <th>deltadate20k</th>\n",
       "      <th>deltadate20kma</th>\n",
       "      <th>...</th>\n",
       "      <th>20k</th>\n",
       "      <th>PP</th>\n",
       "      <th>1</th>\n",
       "      <th>2</th>\n",
       "      <th>3</th>\n",
       "      <th>4</th>\n",
       "      <th>5</th>\n",
       "      <th>6</th>\n",
       "      <th>7</th>\n",
       "      <th>8</th>\n",
       "    </tr>\n",
       "  </thead>\n",
       "  <tbody>\n",
       "    <tr>\n",
       "      <th>225621</th>\n",
       "      <td>J'traîne des pieds</td>\n",
       "      <td>2005</td>\n",
       "      <td>2000</td>\n",
       "      <td>Ruiz Olivia</td>\n",
       "      <td>4</td>\n",
       "      <td>44.0</td>\n",
       "      <td>NaN</td>\n",
       "      <td>35.0</td>\n",
       "      <td>432.0</td>\n",
       "      <td>127.0</td>\n",
       "      <td>...</td>\n",
       "      <td>-786.853478</td>\n",
       "      <td>0.000000</td>\n",
       "      <td>-1164.899586</td>\n",
       "      <td>-1118.420728</td>\n",
       "      <td>-816.396575</td>\n",
       "      <td>-786.364496</td>\n",
       "      <td>-789.356976</td>\n",
       "      <td>-802.697736</td>\n",
       "      <td>-786.853478</td>\n",
       "      <td>0.000000</td>\n",
       "    </tr>\n",
       "    <tr>\n",
       "      <th>255115</th>\n",
       "      <td>L'amour du risque</td>\n",
       "      <td>1982</td>\n",
       "      <td>1980</td>\n",
       "      <td>Générique TV</td>\n",
       "      <td>3</td>\n",
       "      <td>364.0</td>\n",
       "      <td>NaN</td>\n",
       "      <td>NaN</td>\n",
       "      <td>NaN</td>\n",
       "      <td>182.0</td>\n",
       "      <td>...</td>\n",
       "      <td>-7.121584</td>\n",
       "      <td>-0.010281</td>\n",
       "      <td>-6.417172</td>\n",
       "      <td>-6.111952</td>\n",
       "      <td>-6.458136</td>\n",
       "      <td>-6.065715</td>\n",
       "      <td>-6.630894</td>\n",
       "      <td>-7.918763</td>\n",
       "      <td>-7.121584</td>\n",
       "      <td>-0.010281</td>\n",
       "    </tr>\n",
       "    <tr>\n",
       "      <th>253130</th>\n",
       "      <td>Prends ma main</td>\n",
       "      <td>2021</td>\n",
       "      <td>2020</td>\n",
       "      <td>Vitaa</td>\n",
       "      <td>3</td>\n",
       "      <td>NaN</td>\n",
       "      <td>NaN</td>\n",
       "      <td>NaN</td>\n",
       "      <td>NaN</td>\n",
       "      <td>217.0</td>\n",
       "      <td>...</td>\n",
       "      <td>-10.203808</td>\n",
       "      <td>-0.002748</td>\n",
       "      <td>-8.229376</td>\n",
       "      <td>-7.713440</td>\n",
       "      <td>-7.168377</td>\n",
       "      <td>-6.770982</td>\n",
       "      <td>-9.946117</td>\n",
       "      <td>-10.444587</td>\n",
       "      <td>-10.203808</td>\n",
       "      <td>-0.002748</td>\n",
       "    </tr>\n",
       "    <tr>\n",
       "      <th>251835</th>\n",
       "      <td>C'est une belle journée</td>\n",
       "      <td>2002</td>\n",
       "      <td>2000</td>\n",
       "      <td>Farmer Mylène</td>\n",
       "      <td>2</td>\n",
       "      <td>57.0</td>\n",
       "      <td>NaN</td>\n",
       "      <td>63.0</td>\n",
       "      <td>57.0</td>\n",
       "      <td>57.0</td>\n",
       "      <td>...</td>\n",
       "      <td>-5.387539</td>\n",
       "      <td>-0.007118</td>\n",
       "      <td>-8.177555</td>\n",
       "      <td>-7.332600</td>\n",
       "      <td>-7.032111</td>\n",
       "      <td>-7.349471</td>\n",
       "      <td>-10.257360</td>\n",
       "      <td>-10.667861</td>\n",
       "      <td>-5.387539</td>\n",
       "      <td>-0.007118</td>\n",
       "    </tr>\n",
       "    <tr>\n",
       "      <th>251887</th>\n",
       "      <td>Ton visage</td>\n",
       "      <td>2015</td>\n",
       "      <td>2010</td>\n",
       "      <td>Fréro Delavega</td>\n",
       "      <td>2</td>\n",
       "      <td>73.0</td>\n",
       "      <td>NaN</td>\n",
       "      <td>NaN</td>\n",
       "      <td>157.0</td>\n",
       "      <td>63.0</td>\n",
       "      <td>...</td>\n",
       "      <td>-5.785979</td>\n",
       "      <td>-0.004979</td>\n",
       "      <td>-7.729832</td>\n",
       "      <td>-7.855922</td>\n",
       "      <td>-7.591559</td>\n",
       "      <td>-7.617511</td>\n",
       "      <td>-9.700976</td>\n",
       "      <td>-11.387655</td>\n",
       "      <td>-5.785979</td>\n",
       "      <td>-0.004979</td>\n",
       "    </tr>\n",
       "  </tbody>\n",
       "</table>\n",
       "<p>5 rows × 29 columns</p>\n",
       "</div>"
      ],
      "text/plain": [
       "                          titre  année  decennie         artiste  clusterid  \\\n",
       "225621       J'traîne des pieds   2005      2000     Ruiz Olivia          4   \n",
       "255115        L'amour du risque   1982      1980    Générique TV          3   \n",
       "253130           Prends ma main   2021      2020           Vitaa          3   \n",
       "251835  C'est une belle journée   2002      2000   Farmer Mylène          2   \n",
       "251887               Ton visage   2015      2010  Fréro Delavega          2   \n",
       "\n",
       "        deltadate  deltadatemc  deltadatemcma  deltadate20k  deltadate20kma  \\\n",
       "225621       44.0          NaN           35.0         432.0           127.0   \n",
       "255115      364.0          NaN            NaN           NaN           182.0   \n",
       "253130        NaN          NaN            NaN           NaN           217.0   \n",
       "251835       57.0          NaN           63.0          57.0            57.0   \n",
       "251887       73.0          NaN            NaN         157.0            63.0   \n",
       "\n",
       "        ...         20k        PP            1            2           3  \\\n",
       "225621  ... -786.853478  0.000000 -1164.899586 -1118.420728 -816.396575   \n",
       "255115  ...   -7.121584 -0.010281    -6.417172    -6.111952   -6.458136   \n",
       "253130  ...  -10.203808 -0.002748    -8.229376    -7.713440   -7.168377   \n",
       "251835  ...   -5.387539 -0.007118    -8.177555    -7.332600   -7.032111   \n",
       "251887  ...   -5.785979 -0.004979    -7.729832    -7.855922   -7.591559   \n",
       "\n",
       "                 4           5           6           7         8  \n",
       "225621 -786.364496 -789.356976 -802.697736 -786.853478  0.000000  \n",
       "255115   -6.065715   -6.630894   -7.918763   -7.121584 -0.010281  \n",
       "253130   -6.770982   -9.946117  -10.444587  -10.203808 -0.002748  \n",
       "251835   -7.349471  -10.257360  -10.667861   -5.387539 -0.007118  \n",
       "251887   -7.617511   -9.700976  -11.387655   -5.785979 -0.004979  \n",
       "\n",
       "[5 rows x 29 columns]"
      ]
     },
     "execution_count": 28,
     "metadata": {},
     "output_type": "execute_result"
    }
   ],
   "source": [
    "#test_data[[\"titre\", \"artiste\", \"labels\", \"1\", \"2\", \"3\", \"4\", \"5\", \"6\", \"7\", \"8\"]].sample(5)\n",
    "test_data.sample(5)"
   ]
  }
 ],
 "metadata": {
  "kernelspec": {
   "display_name": "Python 3.7.8 64-bit",
   "language": "python",
   "name": "python3"
  },
  "language_info": {
   "codemirror_mode": {
    "name": "ipython",
    "version": 3
   },
   "file_extension": ".py",
   "mimetype": "text/x-python",
   "name": "python",
   "nbconvert_exporter": "python",
   "pygments_lexer": "ipython3",
   "version": "3.7.8"
  },
  "orig_nbformat": 4,
  "vscode": {
   "interpreter": {
    "hash": "5109d816b82be14675a6b11f8e0f0d2e80f029176ed3710d54e125caa8520dfd"
   }
  }
 },
 "nbformat": 4,
 "nbformat_minor": 2
}
