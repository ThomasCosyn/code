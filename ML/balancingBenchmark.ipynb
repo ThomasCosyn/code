{
 "cells": [
  {
   "cell_type": "markdown",
   "metadata": {},
   "source": [
    "# Rebalancing Benchmark for Catboost MultiClass Classification\n",
    "\n",
    "Since only 22 songs are proposed each day on the 2k dataset, the class are unbalanced with the following proportions : <br/>\n",
    "- 50 : 0,18%\n",
    "- 40 : 0,18%\n",
    "- 30 : 0,18%\n",
    "- 20 : <0,18%\n",
    "- 10 : <0,18%\n",
    "- MC : 0,09%\n",
    "- 20k : 0,18%\n",
    "- PP : 99,02%\n",
    "\n",
    "Hence, we clearly have an unbalanced dataset and we need to address this problem"
   ]
  },
  {
   "cell_type": "markdown",
   "metadata": {},
   "source": [
    "## I. Dataset loading"
   ]
  },
  {
   "cell_type": "code",
   "execution_count": 47,
   "metadata": {},
   "outputs": [
    {
     "name": "stdout",
     "output_type": "stream",
     "text": [
      "Dataset loading...\n",
      "Data cleaning...\n",
      "Spliting in train and test...\n",
      "Taille du dataset de train : 206130\n",
      "Taille du dataset de test : 51532\n"
     ]
    }
   ],
   "source": [
    "import pandas as pd\n",
    "from catboost import CatBoostClassifier, Pool\n",
    "import sklearn.metrics as skl\n",
    "import matplotlib.pyplot as plt\n",
    "import os\n",
    "import util\n",
    "\n",
    "os.chdir(\"C:/Users/thoma/OneDrive - CentraleSupelec/NOPLP/code/ML\")\n",
    "\n",
    "# Chargement du dataset\n",
    "print(\"Dataset loading...\")\n",
    "df = pd.read_csv(\"data/lossBenchmarkData.csv\", sep=\";\")\n",
    "\n",
    "# Data Cleaning\n",
    "print(\"Data cleaning...\")\n",
    "df = df.drop(columns=['Unnamed: 0', 'id', 'Chanson_id'])\n",
    "reversed_cat = {'50': 1, '40': 2, '30': 3,\n",
    "                '20': 4, '10': 5, 'MC': 6, '20k': 7, None: 8}\n",
    "df = df.replace({'categorie': reversed_cat})\n",
    "\n",
    "# Split train / test\n",
    "print(\"Spliting in train and test...\")\n",
    "train = df[0:int(len(df)*0.8)]\n",
    "print(\"Taille du dataset de train : \" + str(len(train)))\n",
    "test = df[int(len(df)*0.8)+1:]\n",
    "print(\"Taille du dataset de test : \" + str(len(test)))\n",
    "train_labels = train['categorie']\n",
    "trainSL = train.drop(columns=['categorie'])\n",
    "train_data = trainSL\n",
    "test_labels = test['categorie']\n",
    "test = test.drop(columns=['categorie'])\n",
    "test_data = test\n",
    "test_pool = Pool(test_data,\n",
    "                 test_labels,\n",
    "                 cat_features=['titre', 'artiste'])"
   ]
  },
  {
   "cell_type": "markdown",
   "metadata": {},
   "source": [
    "## II. Sans rééquilibrage"
   ]
  },
  {
   "cell_type": "markdown",
   "metadata": {},
   "source": [
    "Let see what happens without rebalancing the dataset"
   ]
  },
  {
   "cell_type": "code",
   "execution_count": 2,
   "metadata": {},
   "outputs": [
    {
     "name": "stdout",
     "output_type": "stream",
     "text": [
      "Training the CatBoost model...\n",
      "0:\tlearn: 0.0835630\ttotal: 2.45s\tremaining: 22.1s\n",
      "1:\tlearn: 0.5917520\ttotal: 4.64s\tremaining: 18.6s\n",
      "2:\tlearn: 1.1319395\ttotal: 6.69s\tremaining: 15.6s\n",
      "3:\tlearn: 1.1233489\ttotal: 8.98s\tremaining: 13.5s\n",
      "4:\tlearn: 1.1151886\ttotal: 11.5s\tremaining: 11.5s\n",
      "5:\tlearn: 1.0755618\ttotal: 13.9s\tremaining: 9.25s\n",
      "6:\tlearn: 1.0442403\ttotal: 16.1s\tremaining: 6.92s\n",
      "7:\tlearn: 1.0639025\ttotal: 18.3s\tremaining: 4.58s\n",
      "8:\tlearn: 1.0210985\ttotal: 20.5s\tremaining: 2.27s\n",
      "9:\tlearn: 1.0189583\ttotal: 22.7s\tremaining: 0us\n"
     ]
    },
    {
     "data": {
      "text/plain": [
       "<catboost.core.CatBoostClassifier at 0x1b61b9615c8>"
      ]
     },
     "execution_count": 2,
     "metadata": {},
     "output_type": "execute_result"
    }
   ],
   "source": [
    "# Training model\n",
    "print(\"Training the CatBoost model...\")\n",
    "model = CatBoostClassifier(iterations=10,\n",
    "                           depth=10,\n",
    "                           learning_rate=1,\n",
    "                           loss_function='MultiClass',\n",
    "                           verbose=True)\n",
    "model.fit(train_data, train_labels, cat_features=[\n",
    "          'titre', 'artiste'])"
   ]
  },
  {
   "cell_type": "code",
   "execution_count": 4,
   "metadata": {},
   "outputs": [
    {
     "name": "stdout",
     "output_type": "stream",
     "text": [
      "Predicting on the test set...\n",
      "Confusion matrix :\n"
     ]
    },
    {
     "data": {
      "image/png": "[encoded data removed]",
      "text/plain": [
       "<Figure size 432x288 with 2 Axes>"
      ]
     },
     "metadata": {
      "needs_background": "light"
     },
     "output_type": "display_data"
    }
   ],
   "source": [
    "# Prediction on test set\n",
    "print(\"Predicting on the test set...\")\n",
    "preds_class = model.predict(test_pool)\n",
    "preds_proba = model.predict_proba(test_pool)\n",
    "preds = model.predict_log_proba(test_pool)\n",
    "\n",
    "# Modification du dataset de test\n",
    "test_data[\"pred\"] = preds_class\n",
    "test_data[\"labels\"] = test_labels\n",
    "test_data[[\"1\", \"2\", \"3\", \"4\", \"5\", \"6\", \"7\", \"8\"]] = preds\n",
    "\n",
    "# Confusion matrix\n",
    "print(\"Confusion matrix :\")\n",
    "test_data[\"pred\"] = preds_class\n",
    "test_data[\"labels\"] = test_labels\n",
    "confusionMatrix = skl.confusion_matrix(\n",
    "    test_data['labels'], test_data['pred'])\n",
    "dispCM = skl.ConfusionMatrixDisplay(confusionMatrix)\n",
    "dispCM.plot()\n",
    "plt.show()"
   ]
  },
  {
   "cell_type": "markdown",
   "metadata": {},
   "source": [
    "## III. Metric definition"
   ]
  },
  {
   "cell_type": "markdown",
   "metadata": {},
   "source": [
    "First, what is the most precious information for us to get is about the Mêmes Chansons and te 20k Chansons. We will thus create a metric that only takes into account these two classes. <br/>\n",
    "We want two things : <br/>\n",
    "- We **absolutely** don't want to miss songs, especially MC songs\n",
    "- We don't want to learn too many songs, because, physically, we can revise only 20-30 songs per day\n",
    "\n",
    "For the first requirement, we will consider the precisions on the two classes that we care about. Let $a_{ij}$ be the coefficient at the $i-th$ row and $j-th$ column of the confusion matrix :\n",
    "$$P_5 = \\frac{a_{55}}{\\sum_{j = 0}^7a_{5j}}$$\n",
    "The same expression can be obtained for the 20k songs replacing 5 by 6.\n",
    "Then, since we absolutely don't want to miss MC songs, we can't compute a weighted mean of the two metrics with a higher weight for $P_5$.\n",
    "$$Precision(\\lambda) = \\lambda P_5 + (1-\\lambda) P_6$$\n",
    "We will take $\\lambda = 0.9$\n",
    "\n",
    "For the second requirement, we will do the same work with the recalls on both classes.\n",
    "$$R_5 = \\frac{a_{55}}{\\sum_{i = 0}^7a_{i5}}$$\n",
    "Then,\n",
    "$$Recall(\\mu) = \\mu R_5 + (1-\\mu) R_6$$\n",
    "Let's take $\\mu = 0.5$\n",
    "\n",
    "We then compute a classical $F1-score$ with knowing the precision and the recall of the problem :\n",
    "$$F1 = \\frac{2}{\\frac{1}{Precision(\\lambda)} + \\frac{1}{Recall(\\mu)}}$$\n",
    "\n",
    "### 1. Application for the test case without rebalancing"
   ]
  },
  {
   "cell_type": "code",
   "execution_count": 44,
   "metadata": {},
   "outputs": [
    {
     "name": "stdout",
     "output_type": "stream",
     "text": [
      "P5 = 30.6\n",
      "P6 = 18.7\n",
      "Precision = 29.410000000000004\n",
      "R5 = 0.9\n",
      "R6 = 0.8\n",
      "Recall = 0.8500000000000001\n",
      "F1-score = 1.7\n"
     ]
    }
   ],
   "source": [
    "def precisionOrRecall(metric, c):\n",
    "    res = 0\n",
    "    if metric == \"Precision\":\n",
    "        res = confusionMatrix[c, c]/sum(confusionMatrix[c,])\n",
    "    elif metric == \"Recall\":\n",
    "        res = confusionMatrix[c, c]/sum(confusionMatrix[:,c])\n",
    "    else:\n",
    "        raise(\"metric argument must be either Precision or Recall\")\n",
    "    return round(res * 100, 1)\n",
    "\n",
    "def F1score(p, r):\n",
    "    if p == 0 and r == 0:\n",
    "        return 0\n",
    "    else:\n",
    "        return round(2/(1/p + 1/r), 1)\n",
    "\n",
    "# Calcul de la précision\n",
    "P5 = precisionOrRecall(\"Precision\", 5)\n",
    "print(\"P5 = {0}\".format(P5))\n",
    "P6 = precisionOrRecall(\"Precision\", 6)\n",
    "print(\"P6 = {0}\".format(P6))\n",
    "l = 0.9\n",
    "precision = l*P5 + (1-l)*P6\n",
    "print(\"Precision = {0}\".format(precision))\n",
    "\n",
    "# Calcul du recall\n",
    "R5 = precisionOrRecall(\"Recall\", 5)\n",
    "print(\"R5 = {0}\".format(R5))\n",
    "R6 = precisionOrRecall(\"Recall\", 6)\n",
    "print(\"R6 = {0}\".format(R6))\n",
    "mu = 0.5\n",
    "recall = mu*R5 + (1-mu)*R6\n",
    "print(\"Recall = {0}\".format(recall))\n",
    "\n",
    "# Calcul du F1-score\n",
    "F1 = F1score(precision, recall)\n",
    "print(\"F1-score = {0}\".format(F1))"
   ]
  },
  {
   "cell_type": "markdown",
   "metadata": {},
   "source": [
    "**Conclusion :** Si on n'utilise pas de méthode de rebalancing, les résultats sont pourris"
   ]
  },
  {
   "cell_type": "markdown",
   "metadata": {},
   "source": [
    "## IV. Echantillonage en enlevant des PP\n",
    "\n",
    "La première stratégie consiste, pour chaque émission, à ne pas garder l'ensemble des chansons du dataset qui ne sont pas passées. On en garde seulement une proportion $\\tau$, quitte à faire baisser la taille de l'échantillon.\n",
    "\n",
    "Pour ce faire, on split le dataset entre les chansons qui ne passent pas $PP$ et celles qui passent $P$, puis on concatène $dataset = P + \\tau PP$"
   ]
  },
  {
   "cell_type": "code",
   "execution_count": 36,
   "metadata": {},
   "outputs": [
    {
     "data": {
      "text/html": [
       "<div>\n",
       "<style scoped>\n",
       "    .dataframe tbody tr th:only-of-type {\n",
       "        vertical-align: middle;\n",
       "    }\n",
       "\n",
       "    .dataframe tbody tr th {\n",
       "        vertical-align: top;\n",
       "    }\n",
       "\n",
       "    .dataframe thead th {\n",
       "        text-align: right;\n",
       "    }\n",
       "</style>\n",
       "<table border=\"1\" class=\"dataframe\">\n",
       "  <thead>\n",
       "    <tr style=\"text-align: right;\">\n",
       "      <th></th>\n",
       "      <th>titre</th>\n",
       "      <th>année</th>\n",
       "      <th>decennie</th>\n",
       "      <th>artiste</th>\n",
       "      <th>clusterid</th>\n",
       "      <th>deltadate</th>\n",
       "      <th>deltadatemc</th>\n",
       "      <th>deltadatemcma</th>\n",
       "      <th>deltadate20k</th>\n",
       "      <th>deltadate20kma</th>\n",
       "      <th>tauxchoisies</th>\n",
       "      <th>categorie</th>\n",
       "    </tr>\n",
       "  </thead>\n",
       "  <tbody>\n",
       "    <tr>\n",
       "      <th>177605</th>\n",
       "      <td>Le chanteur abandonné</td>\n",
       "      <td>1985</td>\n",
       "      <td>1980</td>\n",
       "      <td>Hallyday Johnny</td>\n",
       "      <td>3</td>\n",
       "      <td>50.0</td>\n",
       "      <td>NaN</td>\n",
       "      <td>63.0</td>\n",
       "      <td>279.0</td>\n",
       "      <td>59.0</td>\n",
       "      <td>0.5</td>\n",
       "      <td>8</td>\n",
       "    </tr>\n",
       "    <tr>\n",
       "      <th>12225</th>\n",
       "      <td>Bambou</td>\n",
       "      <td>1981</td>\n",
       "      <td>1980</td>\n",
       "      <td>Chamfort Alain</td>\n",
       "      <td>2</td>\n",
       "      <td>55.0</td>\n",
       "      <td>NaN</td>\n",
       "      <td>104.0</td>\n",
       "      <td>170.0</td>\n",
       "      <td>73.0</td>\n",
       "      <td>0.0</td>\n",
       "      <td>2</td>\n",
       "    </tr>\n",
       "    <tr>\n",
       "      <th>110243</th>\n",
       "      <td>Belle</td>\n",
       "      <td>1998</td>\n",
       "      <td>1990</td>\n",
       "      <td>Notre-Dame de Paris</td>\n",
       "      <td>3</td>\n",
       "      <td>170.0</td>\n",
       "      <td>235.0</td>\n",
       "      <td>127.0</td>\n",
       "      <td>NaN</td>\n",
       "      <td>NaN</td>\n",
       "      <td>1.0</td>\n",
       "      <td>1</td>\n",
       "    </tr>\n",
       "    <tr>\n",
       "      <th>167543</th>\n",
       "      <td>Le rire du sergent</td>\n",
       "      <td>1971</td>\n",
       "      <td>1970</td>\n",
       "      <td>Sardou Michel</td>\n",
       "      <td>1</td>\n",
       "      <td>152.0</td>\n",
       "      <td>NaN</td>\n",
       "      <td>70.0</td>\n",
       "      <td>NaN</td>\n",
       "      <td>39.0</td>\n",
       "      <td>1.0</td>\n",
       "      <td>7</td>\n",
       "    </tr>\n",
       "    <tr>\n",
       "      <th>186957</th>\n",
       "      <td>Gaby oh Gaby</td>\n",
       "      <td>1980</td>\n",
       "      <td>1980</td>\n",
       "      <td>Bashung Alain</td>\n",
       "      <td>1</td>\n",
       "      <td>43.0</td>\n",
       "      <td>462.0</td>\n",
       "      <td>291.0</td>\n",
       "      <td>NaN</td>\n",
       "      <td>109.0</td>\n",
       "      <td>0.4</td>\n",
       "      <td>8</td>\n",
       "    </tr>\n",
       "  </tbody>\n",
       "</table>\n",
       "</div>"
      ],
      "text/plain": [
       "                        titre  année  decennie              artiste  \\\n",
       "177605  Le chanteur abandonné   1985      1980      Hallyday Johnny   \n",
       "12225                  Bambou   1981      1980       Chamfort Alain   \n",
       "110243                  Belle   1998      1990  Notre-Dame de Paris   \n",
       "167543     Le rire du sergent   1971      1970        Sardou Michel   \n",
       "186957           Gaby oh Gaby   1980      1980        Bashung Alain   \n",
       "\n",
       "        clusterid  deltadate  deltadatemc  deltadatemcma  deltadate20k  \\\n",
       "177605          3       50.0          NaN           63.0         279.0   \n",
       "12225           2       55.0          NaN          104.0         170.0   \n",
       "110243          3      170.0        235.0          127.0           NaN   \n",
       "167543          1      152.0          NaN           70.0           NaN   \n",
       "186957          1       43.0        462.0          291.0           NaN   \n",
       "\n",
       "        deltadate20kma  tauxchoisies  categorie  \n",
       "177605            59.0           0.5          8  \n",
       "12225             73.0           0.0          2  \n",
       "110243             NaN           1.0          1  \n",
       "167543            39.0           1.0          7  \n",
       "186957           109.0           0.4          8  "
      ]
     },
     "execution_count": 36,
     "metadata": {},
     "output_type": "execute_result"
    }
   ],
   "source": [
    "def buildDataset(df, tau):\n",
    "    P = df[df.categorie != 8]\n",
    "    PP = df[df.categorie == 8]\n",
    "    tauPP = PP.sample(frac = tau)\n",
    "    res = pd.concat([P, tauPP])\n",
    "    return res\n",
    "\n",
    "exempleBuildDataset = buildDataset(train, 0.01)\n",
    "exempleBuildDataset.sample(5)"
   ]
  },
  {
   "cell_type": "markdown",
   "metadata": {},
   "source": [
    "### 1. Petit test avec $\\tau = 1\\%$"
   ]
  },
  {
   "cell_type": "markdown",
   "metadata": {},
   "source": [
    "Ici on a pris $\\tau = 1\\%$, entrainons le modèle et calculons le F1-score"
   ]
  },
  {
   "cell_type": "code",
   "execution_count": 37,
   "metadata": {},
   "outputs": [
    {
     "name": "stdout",
     "output_type": "stream",
     "text": [
      "Training the CatBoost model...\n",
      "0:\tlearn: 1.5654648\ttotal: 217ms\tremaining: 1.95s\n",
      "1:\tlearn: 1.4292185\ttotal: 438ms\tremaining: 1.75s\n",
      "2:\tlearn: 1.3366872\ttotal: 654ms\tremaining: 1.52s\n",
      "3:\tlearn: 1.2811790\ttotal: 940ms\tremaining: 1.41s\n",
      "4:\tlearn: 1.1906658\ttotal: 1.23s\tremaining: 1.23s\n",
      "5:\tlearn: 1.1291866\ttotal: 1.51s\tremaining: 1s\n",
      "6:\tlearn: 1.0722350\ttotal: 1.8s\tremaining: 771ms\n",
      "7:\tlearn: 0.9936019\ttotal: 2.02s\tremaining: 504ms\n",
      "8:\tlearn: 0.9536021\ttotal: 2.22s\tremaining: 247ms\n",
      "9:\tlearn: 0.8924762\ttotal: 2.43s\tremaining: 0us\n",
      "Predicting on the test set...\n",
      "Confusion matrix :\n"
     ]
    },
    {
     "data": {
      "image/png": "[encoded data removed]",
      "text/plain": [
       "<Figure size 432x288 with 2 Axes>"
      ]
     },
     "metadata": {
      "needs_background": "light"
     },
     "output_type": "display_data"
    }
   ],
   "source": [
    "# Split train / test\n",
    "train_labels = exempleBuildDataset['categorie']\n",
    "trainSL = exempleBuildDataset.drop(columns=['categorie'])\n",
    "train_data = trainSL\n",
    "\n",
    "# Training model\n",
    "model = util.trainModel(train_data, test_data, ['titre', 'artiste'])\n",
    "\n",
    "# Prediction on test set\n",
    "print(\"Predicting on the test set...\")\n",
    "preds_class = model.predict(test_pool)\n",
    "preds_proba = model.predict_proba(test_pool)\n",
    "preds = model.predict_log_proba(test_pool)\n",
    "\n",
    "# Modification du dataset de test\n",
    "test_data[\"pred\"] = preds_class\n",
    "test_data[\"labels\"] = test_labels\n",
    "test_data[[\"1\", \"2\", \"3\", \"4\", \"5\", \"6\", \"7\", \"8\"]] = preds\n",
    "\n",
    "# Confusion matrix\n",
    "print(\"Confusion matrix :\")\n",
    "test_data[\"pred\"] = preds_class\n",
    "test_data[\"labels\"] = test_labels\n",
    "confusionMatrix = skl.confusion_matrix(\n",
    "    test_data['labels'], test_data['pred'])\n",
    "dispCM = skl.ConfusionMatrixDisplay(confusionMatrix)\n",
    "dispCM.plot()\n",
    "plt.show()"
   ]
  },
  {
   "cell_type": "code",
   "execution_count": 45,
   "metadata": {},
   "outputs": [
    {
     "name": "stdout",
     "output_type": "stream",
     "text": [
      "P5 = 30.6\n",
      "P6 = 18.7\n",
      "Precision = 29.4\n",
      "R5 = 0.9\n",
      "R6 = 0.8\n",
      "Recall = 0.8\n",
      "F1-score = 1.6\n"
     ]
    }
   ],
   "source": [
    "# Calcul de la précision\n",
    "P5 = precisionOrRecall(\"Precision\", 5)\n",
    "print(\"P5 = {0}\".format(P5))\n",
    "P6 = precisionOrRecall(\"Precision\", 6)\n",
    "print(\"P6 = {0}\".format(P6))\n",
    "l = 0.9\n",
    "precision = round(l*P5 + (1-l)*P6, 1)\n",
    "print(\"Precision = {0}\".format(precision))\n",
    "\n",
    "# Calcul du recall\n",
    "R5 = precisionOrRecall(\"Recall\", 5)\n",
    "print(\"R5 = {0}\".format(R5))\n",
    "R6 = precisionOrRecall(\"Recall\", 6)\n",
    "print(\"R6 = {0}\".format(R6))\n",
    "mu = 0.5\n",
    "recall = round(mu*R5 + (1-mu)*R6, 1)\n",
    "print(\"Recall = {0}\".format(recall))\n",
    "\n",
    "# Calcul du F1-score\n",
    "F1 = F1score(precision, recall)\n",
    "print(\"F1-score = {0}\".format(F1))"
   ]
  },
  {
   "cell_type": "markdown",
   "metadata": {},
   "source": [
    "### 2. Recherche de la proportion $\\tau$ optimale"
   ]
  },
  {
   "cell_type": "markdown",
   "metadata": {},
   "source": [
    "On va itérer sur les différentes valeurs de $\\tau$ suivantes : $\\{0.001, 0.003, 0.01, 0.03, 0.1, 0.3, 1\\}$ et regarder l'évolution des trois métriques suivantes : précision, recall et F1-score."
   ]
  },
  {
   "cell_type": "code",
   "execution_count": 48,
   "metadata": {},
   "outputs": [
    {
     "name": "stdout",
     "output_type": "stream",
     "text": [
      "Training the CatBoost model...\n",
      "0:\tlearn: 1.7474088\ttotal: 220ms\tremaining: 1.98s\n",
      "1:\tlearn: 1.5704572\ttotal: 430ms\tremaining: 1.72s\n",
      "2:\tlearn: 1.4422614\ttotal: 673ms\tremaining: 1.57s\n",
      "3:\tlearn: 1.3787587\ttotal: 941ms\tremaining: 1.41s\n",
      "4:\tlearn: 1.3108324\ttotal: 1.18s\tremaining: 1.18s\n",
      "5:\tlearn: 1.2278119\ttotal: 1.45s\tremaining: 966ms\n",
      "6:\tlearn: 1.1653845\ttotal: 1.65s\tremaining: 706ms\n",
      "7:\tlearn: 1.0730652\ttotal: 1.86s\tremaining: 464ms\n",
      "8:\tlearn: 1.0171107\ttotal: 2.05s\tremaining: 227ms\n",
      "9:\tlearn: 0.9335247\ttotal: 2.3s\tremaining: 0us\n",
      "Predicting on the test set...\n",
      "Confusion matrix :\n",
      "P5 = 42.9\n",
      "P6 = 42.9\n",
      "Precision = 42.9\n",
      "R5 = 0.8\n",
      "R6 = 0.4\n",
      "Recall = 0.6\n",
      "F1-score = 1.2\n",
      "Training the CatBoost model...\n",
      "0:\tlearn: 1.7796308\ttotal: 271ms\tremaining: 2.44s\n",
      "1:\tlearn: 1.6205376\ttotal: 521ms\tremaining: 2.08s\n",
      "2:\tlearn: 1.5254200\ttotal: 751ms\tremaining: 1.75s\n",
      "3:\tlearn: 1.4446656\ttotal: 953ms\tremaining: 1.43s\n",
      "4:\tlearn: 1.3432789\ttotal: 1.16s\tremaining: 1.16s\n",
      "5:\tlearn: 1.2726564\ttotal: 1.35s\tremaining: 903ms\n",
      "6:\tlearn: 1.2039751\ttotal: 1.57s\tremaining: 672ms\n",
      "7:\tlearn: 1.1582490\ttotal: 1.79s\tremaining: 447ms\n",
      "8:\tlearn: 1.0718681\ttotal: 2.05s\tremaining: 228ms\n",
      "9:\tlearn: 1.0091248\ttotal: 2.27s\tremaining: 0us\n",
      "Predicting on the test set...\n",
      "Confusion matrix :\n",
      "P5 = 40.8\n",
      "P6 = 38.5\n",
      "Precision = 40.6\n",
      "R5 = 0.9\n",
      "R6 = 0.4\n",
      "Recall = 0.6\n",
      "F1-score = 1.2\n",
      "Training the CatBoost model...\n",
      "0:\tlearn: 1.5451101\ttotal: 224ms\tremaining: 2.01s\n",
      "1:\tlearn: 1.4112725\ttotal: 487ms\tremaining: 1.95s\n",
      "2:\tlearn: 1.3246001\ttotal: 741ms\tremaining: 1.73s\n",
      "3:\tlearn: 1.2638599\ttotal: 950ms\tremaining: 1.43s\n",
      "4:\tlearn: 1.2075208\ttotal: 1.22s\tremaining: 1.22s\n",
      "5:\tlearn: 1.1425661\ttotal: 1.43s\tremaining: 951ms\n",
      "6:\tlearn: 1.0910391\ttotal: 1.67s\tremaining: 717ms\n",
      "7:\tlearn: 1.0475882\ttotal: 1.94s\tremaining: 486ms\n",
      "8:\tlearn: 0.9747667\ttotal: 2.18s\tremaining: 242ms\n",
      "9:\tlearn: 0.9272153\ttotal: 2.39s\tremaining: 0us\n",
      "Predicting on the test set...\n",
      "Confusion matrix :\n",
      "P5 = 24.5\n",
      "P6 = 18.7\n",
      "Precision = 23.9\n",
      "R5 = 0.8\n",
      "R6 = 0.5\n",
      "Recall = 0.6\n",
      "F1-score = 1.2\n",
      "Training the CatBoost model...\n",
      "0:\tlearn: 1.3263634\ttotal: 227ms\tremaining: 2.04s\n",
      "1:\tlearn: 1.4587013\ttotal: 454ms\tremaining: 1.82s\n",
      "2:\tlearn: 1.0885503\ttotal: 692ms\tremaining: 1.61s\n",
      "3:\tlearn: 1.0093421\ttotal: 913ms\tremaining: 1.37s\n",
      "4:\tlearn: 0.9477012\ttotal: 1.21s\tremaining: 1.21s\n",
      "5:\tlearn: 0.8857158\ttotal: 1.5s\tremaining: 1s\n",
      "6:\tlearn: 0.8478442\ttotal: 1.74s\tremaining: 745ms\n",
      "7:\tlearn: 0.8202146\ttotal: 1.96s\tremaining: 490ms\n",
      "8:\tlearn: 0.7963263\ttotal: 2.28s\tremaining: 253ms\n",
      "9:\tlearn: 0.7745825\ttotal: 2.56s\tremaining: 0us\n",
      "Predicting on the test set...\n",
      "Confusion matrix :\n",
      "P5 = 14.3\n",
      "P6 = 13.2\n",
      "Precision = 14.2\n",
      "R5 = 1.2\n",
      "R6 = 0.9\n",
      "Recall = 1.0\n",
      "F1-score = 1.9\n",
      "Training the CatBoost model...\n",
      "0:\tlearn: 0.6272657\ttotal: 297ms\tremaining: 2.67s\n",
      "1:\tlearn: 1.9454835\ttotal: 643ms\tremaining: 2.57s\n",
      "2:\tlearn: 1.8321103\ttotal: 970ms\tremaining: 2.26s\n",
      "3:\tlearn: 1.7673703\ttotal: 1.28s\tremaining: 1.91s\n",
      "4:\tlearn: 1.4078021\ttotal: 1.65s\tremaining: 1.65s\n",
      "5:\tlearn: 1.2887017\ttotal: 2.01s\tremaining: 1.34s\n",
      "6:\tlearn: 1.2036125\ttotal: 2.32s\tremaining: 993ms\n",
      "7:\tlearn: 1.1999400\ttotal: 2.34s\tremaining: 586ms\n",
      "8:\tlearn: 1.1624018\ttotal: 2.65s\tremaining: 294ms\n",
      "9:\tlearn: 1.0834411\ttotal: 3.01s\tremaining: 0us\n",
      "Predicting on the test set...\n",
      "Confusion matrix :\n",
      "P5 = 2.0\n",
      "P6 = 2.2\n",
      "Precision = 2.0\n",
      "R5 = 0.6\n",
      "R6 = 0.5\n",
      "Recall = 0.6\n",
      "F1-score = 0.9\n",
      "Training the CatBoost model...\n",
      "0:\tlearn: 0.2571403\ttotal: 547ms\tremaining: 4.92s\n",
      "1:\tlearn: 1.3469439\ttotal: 1.26s\tremaining: 5.03s\n",
      "2:\tlearn: 1.3029224\ttotal: 1.91s\tremaining: 4.45s\n",
      "3:\tlearn: 1.3178802\ttotal: 2.62s\tremaining: 3.94s\n",
      "4:\tlearn: 1.5599133\ttotal: 3.37s\tremaining: 3.37s\n",
      "5:\tlearn: 1.1881272\ttotal: 4.02s\tremaining: 2.68s\n",
      "6:\tlearn: 1.1778082\ttotal: 4.65s\tremaining: 1.99s\n",
      "7:\tlearn: 1.1611816\ttotal: 5.35s\tremaining: 1.34s\n",
      "8:\tlearn: 1.1506544\ttotal: 6.1s\tremaining: 678ms\n",
      "9:\tlearn: 1.1346774\ttotal: 6.84s\tremaining: 0us\n",
      "Predicting on the test set...\n",
      "Confusion matrix :\n",
      "P5 = 0.0\n",
      "P6 = 0.0\n",
      "Precision = 0.0\n",
      "R5 = 0.0\n",
      "R6 = 0.0\n",
      "Recall = 0.0\n",
      "F1-score = 0\n",
      "Training the CatBoost model...\n",
      "0:\tlearn: 0.0836358\ttotal: 1.67s\tremaining: 15s\n",
      "1:\tlearn: 0.2064395\ttotal: 3.38s\tremaining: 13.5s\n",
      "2:\tlearn: 0.0942215\ttotal: 5.21s\tremaining: 12.2s\n",
      "3:\tlearn: 0.0821458\ttotal: 7.09s\tremaining: 10.6s\n",
      "4:\tlearn: 0.0785118\ttotal: 8.69s\tremaining: 8.69s\n",
      "5:\tlearn: 0.0764968\ttotal: 10.3s\tremaining: 6.88s\n",
      "6:\tlearn: 0.0744683\ttotal: 12s\tremaining: 5.14s\n",
      "7:\tlearn: 0.0743992\ttotal: 12.3s\tremaining: 3.07s\n",
      "8:\tlearn: 0.0735869\ttotal: 13.8s\tremaining: 1.54s\n",
      "9:\tlearn: 0.0727419\ttotal: 15.5s\tremaining: 0us\n",
      "Predicting on the test set...\n",
      "Confusion matrix :\n",
      "P5 = 0.0\n",
      "P6 = 0.0\n",
      "Precision = 0.0\n",
      "R5 = nan\n",
      "R6 = nan\n",
      "Recall = nan\n",
      "F1-score = nan\n"
     ]
    },
    {
     "name": "stderr",
     "output_type": "stream",
     "text": [
      "c:\\Users\\thoma\\OneDrive - CentraleSupelec\\NOPLP\\code\\ML\\util.py:130: RuntimeWarning: invalid value encountered in longlong_scalars\n",
      "  res = confusionMatrix[c, c]/sum(confusionMatrix[:, c])\n",
      "c:\\Users\\thoma\\OneDrive - CentraleSupelec\\NOPLP\\code\\ML\\util.py:140: RuntimeWarning: divide by zero encountered in double_scalars\n",
      "  return round(2/(1/p + 1/r), 1)\n"
     ]
    },
    {
     "data": {
      "image/png": "[encoded data removed]",
      "text/plain": [
       "<Figure size 432x288 with 1 Axes>"
      ]
     },
     "metadata": {
      "needs_background": "light"
     },
     "output_type": "display_data"
    }
   ],
   "source": [
    "# Définition des listes de stockage des résultats\n",
    "taus = [0.001, 0.003, 0.01, 0.03, 0.1, 0.3, 1]\n",
    "precisions, recalls, F1scores = [], [], []\n",
    "\n",
    "for tau in taus:\n",
    "    \n",
    "    # Fabrication du dataset de train\n",
    "    dataset = buildDataset(train, tau)\n",
    "\n",
    "    # Split train / test\n",
    "    train_labels = dataset['categorie']\n",
    "    trainSL = dataset.drop(columns=['categorie'])\n",
    "    train_data = trainSL\n",
    "\n",
    "    # Training model\n",
    "    model = util.trainModel(train_data, train_labels, ['titre', 'artiste'])\n",
    "\n",
    "    # Confusion matrix\n",
    "    confusionMatrix = util.confusionMatrixCalculation(model, test_pool, test_data, test_labels)\n",
    "\n",
    "    # Calcul des métriques\n",
    "    metriques = util.metricCalculation(confusionMatrix)\n",
    "    precisions.append(metriques[\"Precision\"])\n",
    "    recalls.append(metriques[\"Recall\"])\n",
    "    F1scores.append(metriques[\"F1score\"])\n",
    "\n",
    "plt.plot(precisions)\n",
    "plt.plot(recalls)\n",
    "plt.plot(F1scores)\n",
    "plt.show()"
   ]
  }
 ],
 "metadata": {
  "kernelspec": {
   "display_name": "Python 3.7.8 64-bit",
   "language": "python",
   "name": "python3"
  },
  "language_info": {
   "codemirror_mode": {
    "name": "ipython",
    "version": 3
   },
   "file_extension": ".py",
   "mimetype": "text/x-python",
   "name": "python",
   "nbconvert_exporter": "python",
   "pygments_lexer": "ipython3",
   "version": "3.7.8"
  },
  "orig_nbformat": 4,
  "vscode": {
   "interpreter": {
    "hash": "5109d816b82be14675a6b11f8e0f0d2e80f029176ed3710d54e125caa8520dfd"
   }
  }
 },
 "nbformat": 4,
 "nbformat_minor": 2
}
