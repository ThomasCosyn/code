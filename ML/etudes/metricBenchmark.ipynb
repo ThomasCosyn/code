{
 "cells": [
  {
   "cell_type": "markdown",
   "metadata": {},
   "source": [
    "# Metric Benchmark\n",
    "\n",
    "L'objectif de ce notebook est d'étudier la pertinence d'utiliser une autre métrique que la *LogLoss* Multiclass classique, dans le cadre de notre classification multiclass."
   ]
  },
  {
   "cell_type": "markdown",
   "metadata": {},
   "source": [
    "## I. Dataset loading"
   ]
  },
  {
   "cell_type": "code",
   "execution_count": 55,
   "metadata": {},
   "outputs": [
    {
     "name": "stdout",
     "output_type": "stream",
     "text": [
      "Dataset loading...\n",
      "Data cleaning...\n",
      "Spliting in train and test...\n",
      "Taille du dataset de train : 206130\n",
      "Taille du dataset de test : 51532\n"
     ]
    }
   ],
   "source": [
    "import pandas as pd\n",
    "from catboost import CatBoostClassifier, Pool\n",
    "import sklearn.metrics as skl\n",
    "import matplotlib.pyplot as plt\n",
    "import os\n",
    "import shutil\n",
    "import random as rd\n",
    "import numpy as np\n",
    "\n",
    "homePath = \"C:/Users/thoma/OneDrive - CentraleSupelec/NOPLP/code/ML\"\n",
    "\n",
    "# Import du fichier util\n",
    "shutil.copy(homePath + \"/util.py\", homePath + \"/etudes/\")\n",
    "import util\n",
    "\n",
    "os.chdir(homePath)\n",
    "\n",
    "# Chargement du dataset\n",
    "print(\"Dataset loading...\")\n",
    "df = pd.read_csv(\"data/lossBenchmarkData.csv\", sep=\";\")\n",
    "\n",
    "# Data Cleaning\n",
    "print(\"Data cleaning...\")\n",
    "df = df.drop(columns=['Unnamed: 0', 'id', 'Chanson_id'])\n",
    "reversed_cat = {'50': 1, '40': 2, '30': 3,\n",
    "                '20': 4, '10': 5, 'MC': 6, '20k': 7, None: 8}\n",
    "df = df.replace({'categorie': reversed_cat})\n",
    "\n",
    "# Split train / test\n",
    "print(\"Spliting in train and test...\")\n",
    "train = df[0:int(len(df)*0.8)]\n",
    "print(\"Taille du dataset de train : \" + str(len(train)))\n",
    "test = df[int(len(df)*0.8)+1:]\n",
    "print(\"Taille du dataset de test : \" + str(len(test)))\n",
    "train_labels = train['categorie']\n",
    "trainSL = train.drop(columns=['categorie'])\n",
    "train_data = trainSL\n",
    "test_labels = test['categorie']\n",
    "test = test.drop(columns=['categorie'])\n",
    "test_data = test\n",
    "test_pool = Pool(test_data,\n",
    "                 test_labels,\n",
    "                 cat_features=['titre', 'artiste'])"
   ]
  },
  {
   "cell_type": "markdown",
   "metadata": {},
   "source": [
    "## II. Multiclass"
   ]
  },
  {
   "cell_type": "markdown",
   "metadata": {},
   "source": [
    "Let's test the Multiclass metric, with and without weight balancing"
   ]
  },
  {
   "cell_type": "markdown",
   "metadata": {},
   "source": [
    "### 1. Sans poids"
   ]
  },
  {
   "cell_type": "code",
   "execution_count": 32,
   "metadata": {},
   "outputs": [
    {
     "name": "stdout",
     "output_type": "stream",
     "text": [
      "Training the CatBoost model...\n"
     ]
    }
   ],
   "source": [
    "# Training model\n",
    "cat_features = ['titre', 'artiste']\n",
    "model = util.trainModel(train_data, train_labels, cat_features)"
   ]
  },
  {
   "cell_type": "code",
   "execution_count": 33,
   "metadata": {},
   "outputs": [
    {
     "name": "stdout",
     "output_type": "stream",
     "text": [
      "Predicting on the test set...\n",
      "Confusion matrix :\n"
     ]
    },
    {
     "data": {
      "image/png": "[encoded data removed]",
      "text/plain": [
       "<Figure size 432x288 with 2 Axes>"
      ]
     },
     "metadata": {
      "needs_background": "light"
     },
     "output_type": "display_data"
    },
    {
     "name": "stdout",
     "output_type": "stream",
     "text": [
      "P5 = 0.0\n",
      "P6 = 0.0\n",
      "Precision = 0.0\n",
      "R5 = 0.0\n",
      "R6 = 0.0\n",
      "Recall = 0.0\n",
      "F1-score = 0\n"
     ]
    },
    {
     "data": {
      "text/plain": [
       "{'Precision': 0.0, 'Recall': 0.0, 'F1score': 0}"
      ]
     },
     "execution_count": 33,
     "metadata": {},
     "output_type": "execute_result"
    }
   ],
   "source": [
    "# Confusion matrix\n",
    "confusionMatrix = util.confusionMatrixCalculation(model, test_pool, test_data, test_labels)\n",
    "dispCM = skl.ConfusionMatrixDisplay(confusionMatrix)\n",
    "dispCM.plot()\n",
    "plt.show()\n",
    "\n",
    "# Calcul des métriques\n",
    "util.metricCalculation(confusionMatrix)"
   ]
  },
  {
   "cell_type": "markdown",
   "metadata": {},
   "source": [
    "C'est de la demer"
   ]
  },
  {
   "cell_type": "markdown",
   "metadata": {},
   "source": [
    "### 2. Avec poids"
   ]
  },
  {
   "cell_type": "code",
   "execution_count": 34,
   "metadata": {},
   "outputs": [
    {
     "name": "stdout",
     "output_type": "stream",
     "text": [
      "Training the CatBoost model...\n"
     ]
    },
    {
     "data": {
      "text/plain": [
       "<catboost.core.CatBoostClassifier at 0x1cf800bb348>"
      ]
     },
     "execution_count": 34,
     "metadata": {},
     "output_type": "execute_result"
    }
   ],
   "source": [
    "# Training model\n",
    "cat_features = ['titre', 'artiste']\n",
    "class_weight = [0.1, 0.1, 0.1, 0.1, 0.1, 2, 1, 0.1]\n",
    "print(\"Training the CatBoost model...\")\n",
    "model = CatBoostClassifier(iterations=10,\n",
    "                            depth=10,\n",
    "                            learning_rate=1,\n",
    "                            loss_function='MultiClass',\n",
    "                            class_weights=class_weight,\n",
    "                            verbose=False)\n",
    "model.fit(train_data, train_labels, cat_features=cat_features)"
   ]
  },
  {
   "cell_type": "code",
   "execution_count": 35,
   "metadata": {},
   "outputs": [
    {
     "name": "stdout",
     "output_type": "stream",
     "text": [
      "Predicting on the test set...\n",
      "Confusion matrix :\n"
     ]
    },
    {
     "data": {
      "image/png": "[encoded data removed]",
      "text/plain": [
       "<Figure size 432x288 with 2 Axes>"
      ]
     },
     "metadata": {
      "needs_background": "light"
     },
     "output_type": "display_data"
    },
    {
     "name": "stdout",
     "output_type": "stream",
     "text": [
      "P5 = 10.2\n",
      "P6 = 5.5\n",
      "Precision = 9.7\n",
      "R5 = 0.6\n",
      "R6 = 0.7\n",
      "Recall = 0.6\n",
      "F1-score = 1.1\n"
     ]
    },
    {
     "data": {
      "text/plain": [
       "{'Precision': 9.7, 'Recall': 0.6, 'F1score': 1.1}"
      ]
     },
     "execution_count": 35,
     "metadata": {},
     "output_type": "execute_result"
    }
   ],
   "source": [
    "# Confusion matrix\n",
    "confusionMatrix = util.confusionMatrixCalculation(model, test_pool, test_data, test_labels)\n",
    "dispCM = skl.ConfusionMatrixDisplay(confusionMatrix)\n",
    "dispCM.plot()\n",
    "plt.show()\n",
    "\n",
    "# Calcul des métriques\n",
    "util.metricCalculation(confusionMatrix)"
   ]
  },
  {
   "cell_type": "markdown",
   "metadata": {},
   "source": [
    "**Conclusion :** C'est un peu mieux mais ça reste de la demer. Pour une prédiction juste, on fait 100 erreurs."
   ]
  },
  {
   "cell_type": "markdown",
   "metadata": {},
   "source": [
    "## III. Multiclass One Vs All"
   ]
  },
  {
   "cell_type": "markdown",
   "metadata": {},
   "source": [
    "### 1. Sans poids"
   ]
  },
  {
   "cell_type": "code",
   "execution_count": 36,
   "metadata": {},
   "outputs": [
    {
     "name": "stdout",
     "output_type": "stream",
     "text": [
      "Training the CatBoost model...\n"
     ]
    },
    {
     "data": {
      "text/plain": [
       "<catboost.core.CatBoostClassifier at 0x1cfccb95808>"
      ]
     },
     "execution_count": 36,
     "metadata": {},
     "output_type": "execute_result"
    }
   ],
   "source": [
    "# Training model\n",
    "print(\"Training the CatBoost model...\")\n",
    "model = CatBoostClassifier(iterations=10,\n",
    "                            depth=10,\n",
    "                            learning_rate=1,\n",
    "                            loss_function='MultiClassOneVsAll',\n",
    "                            verbose=False)\n",
    "model.fit(train_data, train_labels, cat_features=cat_features)"
   ]
  },
  {
   "cell_type": "code",
   "execution_count": 37,
   "metadata": {},
   "outputs": [
    {
     "name": "stdout",
     "output_type": "stream",
     "text": [
      "Predicting on the test set...\n",
      "Confusion matrix :\n"
     ]
    },
    {
     "data": {
      "image/png": "[encoded data removed]",
      "text/plain": [
       "<Figure size 432x288 with 2 Axes>"
      ]
     },
     "metadata": {
      "needs_background": "light"
     },
     "output_type": "display_data"
    },
    {
     "name": "stdout",
     "output_type": "stream",
     "text": [
      "P5 = 0.0\n",
      "P6 = 0.0\n",
      "Precision = 0.0\n",
      "R5 = 0\n",
      "R6 = 0\n",
      "Recall = 0.0\n",
      "F1-score = 0\n"
     ]
    },
    {
     "data": {
      "text/plain": [
       "{'Precision': 0.0, 'Recall': 0.0, 'F1score': 0}"
      ]
     },
     "execution_count": 37,
     "metadata": {},
     "output_type": "execute_result"
    }
   ],
   "source": [
    "# Confusion matrix\n",
    "confusionMatrix = util.confusionMatrixCalculation(model, test_pool, test_data, test_labels)\n",
    "dispCM = skl.ConfusionMatrixDisplay(confusionMatrix)\n",
    "dispCM.plot()\n",
    "plt.show()\n",
    "\n",
    "# Calcul des métriques\n",
    "util.metricCalculation(confusionMatrix)"
   ]
  },
  {
   "cell_type": "markdown",
   "metadata": {},
   "source": [
    "C'est pire !"
   ]
  },
  {
   "cell_type": "markdown",
   "metadata": {},
   "source": [
    "### 2. Avec poids"
   ]
  },
  {
   "cell_type": "code",
   "execution_count": 49,
   "metadata": {},
   "outputs": [
    {
     "name": "stdout",
     "output_type": "stream",
     "text": [
      "Training the CatBoost model...\n"
     ]
    },
    {
     "data": {
      "text/plain": [
       "<catboost.core.CatBoostClassifier at 0x1cf81f5fa88>"
      ]
     },
     "execution_count": 49,
     "metadata": {},
     "output_type": "execute_result"
    }
   ],
   "source": [
    "print(\"Training the CatBoost model...\")\n",
    "class_weight = [0.1, 0.1, 0.1, 0.1, 0.1, 2, 1, 0.1]\n",
    "model = CatBoostClassifier(iterations=10,\n",
    "                            depth=10,\n",
    "                            learning_rate=1,\n",
    "                            loss_function='MultiClassOneVsAll',\n",
    "                            class_weights=class_weight,\n",
    "                            verbose=False)\n",
    "model.fit(train_data, train_labels, cat_features=cat_features)"
   ]
  },
  {
   "cell_type": "code",
   "execution_count": 48,
   "metadata": {},
   "outputs": [
    {
     "name": "stdout",
     "output_type": "stream",
     "text": [
      "Predicting on the test set...\n",
      "Confusion matrix :\n"
     ]
    },
    {
     "data": {
      "image/png": "[encoded data removed]",
      "text/plain": [
       "<Figure size 432x288 with 2 Axes>"
      ]
     },
     "metadata": {
      "needs_background": "light"
     },
     "output_type": "display_data"
    },
    {
     "name": "stdout",
     "output_type": "stream",
     "text": [
      "P5 = 0.0\n",
      "P6 = 0.0\n",
      "Precision = 0.0\n",
      "R5 = 0.0\n",
      "R6 = 0\n",
      "Recall = 0.0\n",
      "F1-score = 0\n"
     ]
    },
    {
     "data": {
      "text/plain": [
       "{'Precision': 0.0, 'Recall': 0.0, 'F1score': 0}"
      ]
     },
     "execution_count": 48,
     "metadata": {},
     "output_type": "execute_result"
    }
   ],
   "source": [
    "# Confusion matrix\n",
    "confusionMatrix = util.confusionMatrixCalculation(model, test_pool, test_data, test_labels)\n",
    "dispCM = skl.ConfusionMatrixDisplay(confusionMatrix)\n",
    "dispCM.plot()\n",
    "plt.show()\n",
    "\n",
    "# Calcul des métriques\n",
    "util.metricCalculation(confusionMatrix)"
   ]
  },
  {
   "cell_type": "markdown",
   "metadata": {},
   "source": [
    "**Conclusion :** La méthode OneVsAll avec poids performe légèrement mieux que la méthode classique."
   ]
  },
  {
   "cell_type": "markdown",
   "metadata": {},
   "source": [
    "## IV. Grid Search pour les poids\n",
    "\n",
    "On remarque donc que ce qui fonctionne le mieux est la loss OneVsAll avec des poids. On cherche maintenant à optimiser les poids à mettre sur chaque classe pour maximiser notre *F1-score* customisé."
   ]
  },
  {
   "cell_type": "code",
   "execution_count": 53,
   "metadata": {},
   "outputs": [
    {
     "name": "stdout",
     "output_type": "stream",
     "text": [
      "[0.5, 0, 0, 0, 0.1, 2, 2, 0]\n",
      "Predicting on the test set...\n",
      "Confusion matrix :\n",
      "P5 = 55.1\n",
      "P6 = 81.3\n",
      "Precision = 57.7\n",
      "R5 = 0.6\n",
      "R6 = 0.2\n",
      "Recall = 0.4\n",
      "F1-score = 0.8\n",
      "[0.5, 0.3, 1, 0, 0.5, 1, 2, 0.3]\n",
      "Predicting on the test set...\n",
      "Confusion matrix :\n",
      "P5 = 0.0\n",
      "P6 = 0.0\n",
      "Precision = 0.0\n",
      "R5 = 0\n",
      "R6 = 0.0\n",
      "Recall = 0.0\n",
      "F1-score = 0\n",
      "[0.1, 1, 1, 1, 0.1, 0.25, 5, 0.5]\n",
      "Predicting on the test set...\n",
      "Confusion matrix :\n",
      "P5 = 0.0\n",
      "P6 = 0.0\n",
      "Precision = 0.0\n",
      "R5 = 0\n",
      "R6 = 0.0\n",
      "Recall = 0.0\n",
      "F1-score = 0\n",
      "[1, 0.1, 0.1, 1, 0.3, 0.25, 5, 0.3]\n",
      "Predicting on the test set...\n",
      "Confusion matrix :\n",
      "P5 = 0.0\n",
      "P6 = 0.0\n",
      "Precision = 0.0\n",
      "R5 = 0\n",
      "R6 = 0.0\n",
      "Recall = 0.0\n",
      "F1-score = 0\n",
      "[0.1, 0.3, 0.1, 0.3, 0, 5, 0.5, 0.3]\n",
      "Predicting on the test set...\n",
      "Confusion matrix :\n",
      "P5 = 2.0\n",
      "P6 = 0.0\n",
      "Precision = 1.8\n",
      "R5 = 0.9\n",
      "R6 = 0\n",
      "Recall = 0.4\n",
      "F1-score = 0.7\n",
      "[0.5, 0.5, 1, 0.1, 0.1, 1, 0.5, 0.3]\n",
      "Predicting on the test set...\n",
      "Confusion matrix :\n",
      "P5 = 0.0\n",
      "P6 = 0.0\n",
      "Precision = 0.0\n",
      "R5 = 0\n",
      "R6 = 0\n",
      "Recall = 0.0\n",
      "F1-score = 0\n",
      "[0, 0.3, 0.1, 0, 0, 0.25, 0.5, 1]\n",
      "Predicting on the test set...\n",
      "Confusion matrix :\n",
      "P5 = 0.0\n",
      "P6 = 0.0\n",
      "Precision = 0.0\n",
      "R5 = 0\n",
      "R6 = 0\n",
      "Recall = 0.0\n",
      "F1-score = 0\n",
      "[0.1, 0.5, 1, 0.5, 0.5, 1, 5, 0.5]\n",
      "Predicting on the test set...\n",
      "Confusion matrix :\n",
      "P5 = 0.0\n",
      "P6 = 0.0\n",
      "Precision = 0.0\n",
      "R5 = 0\n",
      "R6 = 0.0\n",
      "Recall = 0.0\n",
      "F1-score = 0\n",
      "[0.3, 0.1, 0.5, 0, 0.5, 5, 0.5, 0.1]\n",
      "Predicting on the test set...\n",
      "Confusion matrix :\n",
      "P5 = 8.2\n",
      "P6 = 0.0\n",
      "Precision = 7.4\n",
      "R5 = 1.1\n",
      "R6 = 0\n",
      "Recall = 0.6\n",
      "F1-score = 1.1\n",
      "[0.1, 0.3, 0.5, 0.1, 0, 5, 0.25, 0]\n",
      "Predicting on the test set...\n",
      "Confusion matrix :\n",
      "P5 = 51.0\n",
      "P6 = 41.8\n",
      "Precision = 50.1\n",
      "R5 = 0.5\n",
      "R6 = 0.3\n",
      "Recall = 0.4\n",
      "F1-score = 0.8\n",
      "[1, 0, 0.1, 0.5, 0.1, 5, 5, 0.1]\n",
      "Predicting on the test set...\n",
      "Confusion matrix :\n",
      "P5 = 12.2\n",
      "P6 = 4.4\n",
      "Precision = 11.4\n",
      "R5 = 1.3\n",
      "R6 = 0.8\n",
      "Recall = 1.0\n",
      "F1-score = 1.8\n",
      "[0.1, 0.5, 0.5, 0.5, 0, 1, 5, 0.1]\n",
      "Predicting on the test set...\n",
      "Confusion matrix :\n",
      "P5 = 0.0\n",
      "P6 = 5.5\n",
      "Precision = 0.5\n",
      "R5 = 0.0\n",
      "R6 = 0.9\n",
      "Recall = 0.4\n",
      "F1-score = 0.4\n",
      "[0.1, 0.5, 0, 0.5, 0.5, 5, 1, 0.3]\n",
      "Predicting on the test set...\n",
      "Confusion matrix :\n",
      "P5 = 2.0\n",
      "P6 = 0.0\n",
      "Precision = 1.8\n",
      "R5 = 0.9\n",
      "R6 = 0\n",
      "Recall = 0.4\n",
      "F1-score = 0.7\n",
      "[0.3, 0.5, 0.5, 0.5, 0.1, 5, 0.25, 0.1]\n",
      "Predicting on the test set...\n",
      "Confusion matrix :\n",
      "P5 = 4.1\n",
      "P6 = 0.0\n",
      "Precision = 3.7\n",
      "R5 = 0.8\n",
      "R6 = 0\n",
      "Recall = 0.4\n",
      "F1-score = 0.7\n",
      "[1, 0.3, 0.1, 1, 1, 0.5, 0.5, 0.1]\n",
      "Predicting on the test set...\n",
      "Confusion matrix :\n",
      "P5 = 0.0\n",
      "P6 = 0.0\n",
      "Precision = 0.0\n",
      "R5 = 0\n",
      "R6 = 0\n",
      "Recall = 0.0\n",
      "F1-score = 0\n",
      "[0.1, 0.3, 0.1, 0.3, 0.5, 1, 2, 0.5]\n",
      "Predicting on the test set...\n",
      "Confusion matrix :\n",
      "P5 = 0.0\n",
      "P6 = 0.0\n",
      "Precision = 0.0\n",
      "R5 = 0\n",
      "R6 = 0\n",
      "Recall = 0.0\n",
      "F1-score = 0\n",
      "[0, 1, 0.5, 0, 0.1, 1, 1, 0]\n",
      "Predicting on the test set...\n",
      "Confusion matrix :\n",
      "P5 = 44.9\n",
      "P6 = 62.6\n",
      "Precision = 46.7\n",
      "R5 = 0.6\n",
      "R6 = 0.3\n",
      "Recall = 0.4\n",
      "F1-score = 0.8\n",
      "[1, 0.3, 0.5, 1, 0, 0.5, 0.25, 0.1]\n",
      "Predicting on the test set...\n",
      "Confusion matrix :\n",
      "P5 = 0.0\n",
      "P6 = 0.0\n",
      "Precision = 0.0\n",
      "R5 = 0\n",
      "R6 = 0\n",
      "Recall = 0.0\n",
      "F1-score = 0\n",
      "[1, 0.1, 0, 0, 1, 5, 5, 0]\n",
      "Predicting on the test set...\n",
      "Confusion matrix :\n",
      "P5 = 55.1\n",
      "P6 = 84.6\n",
      "Precision = 58.0\n",
      "R5 = 0.6\n",
      "R6 = 0.3\n",
      "Recall = 0.4\n",
      "F1-score = 0.8\n",
      "[0.5, 0, 1, 0.5, 0, 5, 0.25, 0]\n",
      "Predicting on the test set...\n",
      "Confusion matrix :\n",
      "P5 = 49.0\n",
      "P6 = 38.5\n",
      "Precision = 48.0\n",
      "R5 = 0.5\n",
      "R6 = 0.4\n",
      "Recall = 0.4\n",
      "F1-score = 0.8\n"
     ]
    }
   ],
   "source": [
    "petites = [0, 0.1, 0.3, 0.5, 1]\n",
    "grandes = [0.25, 0.5, 1, 2, 5, 10]\n",
    "\n",
    "N = 20\n",
    "res = []\n",
    "\n",
    "for i in range(N):\n",
    "    \n",
    "    # On choisit des poids au hasard\n",
    "    class_weight = [petites[rd.randint(0,4)], petites[rd.randint(0,4)], petites[rd.randint(0,4)], petites[rd.randint(0,4)], petites[rd.randint(0,4)], grandes[rd.randint(0,4)], grandes[rd.randint(0,4)], petites[rd.randint(0,4)]]\n",
    "    print(class_weight)\n",
    "    # On entraine le modèle\n",
    "    model = CatBoostClassifier(iterations=10,\n",
    "                            depth=10,\n",
    "                            learning_rate=1,\n",
    "                            loss_function='MultiClassOneVsAll',\n",
    "                            class_weights=class_weight,\n",
    "                            verbose=False)\n",
    "    model.fit(train_data, train_labels, cat_features=cat_features)\n",
    "    # On calcule la matrice de confusion\n",
    "    confusionMatrix = util.confusionMatrixCalculation(model, test_pool, test_data, test_labels)\n",
    "    dispCM = skl.ConfusionMatrixDisplay(confusionMatrix)\n",
    "    # On calcule le F1-score\n",
    "    metriques = util.metricCalculation(confusionMatrix)\n",
    "\n",
    "    res.append(class_weight + [metriques[\"F1score\"]])"
   ]
  },
  {
   "cell_type": "code",
   "execution_count": 56,
   "metadata": {},
   "outputs": [
    {
     "data": {
      "text/html": [
       "<div>\n",
       "<style scoped>\n",
       "    .dataframe tbody tr th:only-of-type {\n",
       "        vertical-align: middle;\n",
       "    }\n",
       "\n",
       "    .dataframe tbody tr th {\n",
       "        vertical-align: top;\n",
       "    }\n",
       "\n",
       "    .dataframe thead th {\n",
       "        text-align: right;\n",
       "    }\n",
       "</style>\n",
       "<table border=\"1\" class=\"dataframe\">\n",
       "  <thead>\n",
       "    <tr style=\"text-align: right;\">\n",
       "      <th></th>\n",
       "      <th>50</th>\n",
       "      <th>40</th>\n",
       "      <th>30</th>\n",
       "      <th>20</th>\n",
       "      <th>10</th>\n",
       "      <th>MC</th>\n",
       "      <th>20k</th>\n",
       "      <th>PP</th>\n",
       "      <th>F1score</th>\n",
       "    </tr>\n",
       "  </thead>\n",
       "  <tbody>\n",
       "    <tr>\n",
       "      <th>10</th>\n",
       "      <td>1.0</td>\n",
       "      <td>0.0</td>\n",
       "      <td>0.1</td>\n",
       "      <td>0.5</td>\n",
       "      <td>0.1</td>\n",
       "      <td>5.00</td>\n",
       "      <td>5.00</td>\n",
       "      <td>0.1</td>\n",
       "      <td>1.8</td>\n",
       "    </tr>\n",
       "    <tr>\n",
       "      <th>8</th>\n",
       "      <td>0.3</td>\n",
       "      <td>0.1</td>\n",
       "      <td>0.5</td>\n",
       "      <td>0.0</td>\n",
       "      <td>0.5</td>\n",
       "      <td>5.00</td>\n",
       "      <td>0.50</td>\n",
       "      <td>0.1</td>\n",
       "      <td>1.1</td>\n",
       "    </tr>\n",
       "    <tr>\n",
       "      <th>18</th>\n",
       "      <td>1.0</td>\n",
       "      <td>0.1</td>\n",
       "      <td>0.0</td>\n",
       "      <td>0.0</td>\n",
       "      <td>1.0</td>\n",
       "      <td>5.00</td>\n",
       "      <td>5.00</td>\n",
       "      <td>0.0</td>\n",
       "      <td>0.8</td>\n",
       "    </tr>\n",
       "    <tr>\n",
       "      <th>16</th>\n",
       "      <td>0.0</td>\n",
       "      <td>1.0</td>\n",
       "      <td>0.5</td>\n",
       "      <td>0.0</td>\n",
       "      <td>0.1</td>\n",
       "      <td>1.00</td>\n",
       "      <td>1.00</td>\n",
       "      <td>0.0</td>\n",
       "      <td>0.8</td>\n",
       "    </tr>\n",
       "    <tr>\n",
       "      <th>9</th>\n",
       "      <td>0.1</td>\n",
       "      <td>0.3</td>\n",
       "      <td>0.5</td>\n",
       "      <td>0.1</td>\n",
       "      <td>0.0</td>\n",
       "      <td>5.00</td>\n",
       "      <td>0.25</td>\n",
       "      <td>0.0</td>\n",
       "      <td>0.8</td>\n",
       "    </tr>\n",
       "    <tr>\n",
       "      <th>0</th>\n",
       "      <td>0.5</td>\n",
       "      <td>0.0</td>\n",
       "      <td>0.0</td>\n",
       "      <td>0.0</td>\n",
       "      <td>0.1</td>\n",
       "      <td>2.00</td>\n",
       "      <td>2.00</td>\n",
       "      <td>0.0</td>\n",
       "      <td>0.8</td>\n",
       "    </tr>\n",
       "    <tr>\n",
       "      <th>19</th>\n",
       "      <td>0.5</td>\n",
       "      <td>0.0</td>\n",
       "      <td>1.0</td>\n",
       "      <td>0.5</td>\n",
       "      <td>0.0</td>\n",
       "      <td>5.00</td>\n",
       "      <td>0.25</td>\n",
       "      <td>0.0</td>\n",
       "      <td>0.8</td>\n",
       "    </tr>\n",
       "    <tr>\n",
       "      <th>4</th>\n",
       "      <td>0.1</td>\n",
       "      <td>0.3</td>\n",
       "      <td>0.1</td>\n",
       "      <td>0.3</td>\n",
       "      <td>0.0</td>\n",
       "      <td>5.00</td>\n",
       "      <td>0.50</td>\n",
       "      <td>0.3</td>\n",
       "      <td>0.7</td>\n",
       "    </tr>\n",
       "    <tr>\n",
       "      <th>12</th>\n",
       "      <td>0.1</td>\n",
       "      <td>0.5</td>\n",
       "      <td>0.0</td>\n",
       "      <td>0.5</td>\n",
       "      <td>0.5</td>\n",
       "      <td>5.00</td>\n",
       "      <td>1.00</td>\n",
       "      <td>0.3</td>\n",
       "      <td>0.7</td>\n",
       "    </tr>\n",
       "    <tr>\n",
       "      <th>13</th>\n",
       "      <td>0.3</td>\n",
       "      <td>0.5</td>\n",
       "      <td>0.5</td>\n",
       "      <td>0.5</td>\n",
       "      <td>0.1</td>\n",
       "      <td>5.00</td>\n",
       "      <td>0.25</td>\n",
       "      <td>0.1</td>\n",
       "      <td>0.7</td>\n",
       "    </tr>\n",
       "    <tr>\n",
       "      <th>11</th>\n",
       "      <td>0.1</td>\n",
       "      <td>0.5</td>\n",
       "      <td>0.5</td>\n",
       "      <td>0.5</td>\n",
       "      <td>0.0</td>\n",
       "      <td>1.00</td>\n",
       "      <td>5.00</td>\n",
       "      <td>0.1</td>\n",
       "      <td>0.4</td>\n",
       "    </tr>\n",
       "    <tr>\n",
       "      <th>6</th>\n",
       "      <td>0.0</td>\n",
       "      <td>0.3</td>\n",
       "      <td>0.1</td>\n",
       "      <td>0.0</td>\n",
       "      <td>0.0</td>\n",
       "      <td>0.25</td>\n",
       "      <td>0.50</td>\n",
       "      <td>1.0</td>\n",
       "      <td>0.0</td>\n",
       "    </tr>\n",
       "    <tr>\n",
       "      <th>7</th>\n",
       "      <td>0.1</td>\n",
       "      <td>0.5</td>\n",
       "      <td>1.0</td>\n",
       "      <td>0.5</td>\n",
       "      <td>0.5</td>\n",
       "      <td>1.00</td>\n",
       "      <td>5.00</td>\n",
       "      <td>0.5</td>\n",
       "      <td>0.0</td>\n",
       "    </tr>\n",
       "    <tr>\n",
       "      <th>5</th>\n",
       "      <td>0.5</td>\n",
       "      <td>0.5</td>\n",
       "      <td>1.0</td>\n",
       "      <td>0.1</td>\n",
       "      <td>0.1</td>\n",
       "      <td>1.00</td>\n",
       "      <td>0.50</td>\n",
       "      <td>0.3</td>\n",
       "      <td>0.0</td>\n",
       "    </tr>\n",
       "    <tr>\n",
       "      <th>1</th>\n",
       "      <td>0.5</td>\n",
       "      <td>0.3</td>\n",
       "      <td>1.0</td>\n",
       "      <td>0.0</td>\n",
       "      <td>0.5</td>\n",
       "      <td>1.00</td>\n",
       "      <td>2.00</td>\n",
       "      <td>0.3</td>\n",
       "      <td>0.0</td>\n",
       "    </tr>\n",
       "    <tr>\n",
       "      <th>14</th>\n",
       "      <td>1.0</td>\n",
       "      <td>0.3</td>\n",
       "      <td>0.1</td>\n",
       "      <td>1.0</td>\n",
       "      <td>1.0</td>\n",
       "      <td>0.50</td>\n",
       "      <td>0.50</td>\n",
       "      <td>0.1</td>\n",
       "      <td>0.0</td>\n",
       "    </tr>\n",
       "    <tr>\n",
       "      <th>15</th>\n",
       "      <td>0.1</td>\n",
       "      <td>0.3</td>\n",
       "      <td>0.1</td>\n",
       "      <td>0.3</td>\n",
       "      <td>0.5</td>\n",
       "      <td>1.00</td>\n",
       "      <td>2.00</td>\n",
       "      <td>0.5</td>\n",
       "      <td>0.0</td>\n",
       "    </tr>\n",
       "    <tr>\n",
       "      <th>3</th>\n",
       "      <td>1.0</td>\n",
       "      <td>0.1</td>\n",
       "      <td>0.1</td>\n",
       "      <td>1.0</td>\n",
       "      <td>0.3</td>\n",
       "      <td>0.25</td>\n",
       "      <td>5.00</td>\n",
       "      <td>0.3</td>\n",
       "      <td>0.0</td>\n",
       "    </tr>\n",
       "    <tr>\n",
       "      <th>17</th>\n",
       "      <td>1.0</td>\n",
       "      <td>0.3</td>\n",
       "      <td>0.5</td>\n",
       "      <td>1.0</td>\n",
       "      <td>0.0</td>\n",
       "      <td>0.50</td>\n",
       "      <td>0.25</td>\n",
       "      <td>0.1</td>\n",
       "      <td>0.0</td>\n",
       "    </tr>\n",
       "    <tr>\n",
       "      <th>2</th>\n",
       "      <td>0.1</td>\n",
       "      <td>1.0</td>\n",
       "      <td>1.0</td>\n",
       "      <td>1.0</td>\n",
       "      <td>0.1</td>\n",
       "      <td>0.25</td>\n",
       "      <td>5.00</td>\n",
       "      <td>0.5</td>\n",
       "      <td>0.0</td>\n",
       "    </tr>\n",
       "  </tbody>\n",
       "</table>\n",
       "</div>"
      ],
      "text/plain": [
       "     50   40   30   20   10    MC   20k   PP  F1score\n",
       "10  1.0  0.0  0.1  0.5  0.1  5.00  5.00  0.1      1.8\n",
       "8   0.3  0.1  0.5  0.0  0.5  5.00  0.50  0.1      1.1\n",
       "18  1.0  0.1  0.0  0.0  1.0  5.00  5.00  0.0      0.8\n",
       "16  0.0  1.0  0.5  0.0  0.1  1.00  1.00  0.0      0.8\n",
       "9   0.1  0.3  0.5  0.1  0.0  5.00  0.25  0.0      0.8\n",
       "0   0.5  0.0  0.0  0.0  0.1  2.00  2.00  0.0      0.8\n",
       "19  0.5  0.0  1.0  0.5  0.0  5.00  0.25  0.0      0.8\n",
       "4   0.1  0.3  0.1  0.3  0.0  5.00  0.50  0.3      0.7\n",
       "12  0.1  0.5  0.0  0.5  0.5  5.00  1.00  0.3      0.7\n",
       "13  0.3  0.5  0.5  0.5  0.1  5.00  0.25  0.1      0.7\n",
       "11  0.1  0.5  0.5  0.5  0.0  1.00  5.00  0.1      0.4\n",
       "6   0.0  0.3  0.1  0.0  0.0  0.25  0.50  1.0      0.0\n",
       "7   0.1  0.5  1.0  0.5  0.5  1.00  5.00  0.5      0.0\n",
       "5   0.5  0.5  1.0  0.1  0.1  1.00  0.50  0.3      0.0\n",
       "1   0.5  0.3  1.0  0.0  0.5  1.00  2.00  0.3      0.0\n",
       "14  1.0  0.3  0.1  1.0  1.0  0.50  0.50  0.1      0.0\n",
       "15  0.1  0.3  0.1  0.3  0.5  1.00  2.00  0.5      0.0\n",
       "3   1.0  0.1  0.1  1.0  0.3  0.25  5.00  0.3      0.0\n",
       "17  1.0  0.3  0.5  1.0  0.0  0.50  0.25  0.1      0.0\n",
       "2   0.1  1.0  1.0  1.0  0.1  0.25  5.00  0.5      0.0"
      ]
     },
     "execution_count": 56,
     "metadata": {},
     "output_type": "execute_result"
    }
   ],
   "source": [
    "dfRes = pd.DataFrame(np.array(res), columns = [\"50\", \"40\", \"30\", \"20\", \"10\", \"MC\", \"20k\", \"PP\", \"F1score\"])\n",
    "dfRes.sort_values(by = \"F1score\", ascending = False)"
   ]
  }
 ],
 "metadata": {
  "kernelspec": {
   "display_name": "Python 3.7.8 64-bit",
   "language": "python",
   "name": "python3"
  },
  "language_info": {
   "codemirror_mode": {
    "name": "ipython",
    "version": 3
   },
   "file_extension": ".py",
   "mimetype": "text/x-python",
   "name": "python",
   "nbconvert_exporter": "python",
   "pygments_lexer": "ipython3",
   "version": "3.7.8"
  },
  "orig_nbformat": 4,
  "vscode": {
   "interpreter": {
    "hash": "5109d816b82be14675a6b11f8e0f0d2e80f029176ed3710d54e125caa8520dfd"
   }
  }
 },
 "nbformat": 4,
 "nbformat_minor": 2
}
