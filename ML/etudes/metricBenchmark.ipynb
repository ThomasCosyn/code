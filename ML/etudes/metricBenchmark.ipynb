{
 "cells": [
  {
   "cell_type": "markdown",
   "metadata": {},
   "source": [
    "# Metric Benchmark\n",
    "\n",
    "L'objectif de ce notebook est d'étudier la pertinence d'utiliser une autre métrique que la *LogLoss* Multiclass classique, dans le cadre de notre classification multiclass."
   ]
  },
  {
   "cell_type": "markdown",
   "metadata": {},
   "source": [
    "## I. Dataset loading"
   ]
  },
  {
   "cell_type": "code",
   "execution_count": 2,
   "metadata": {},
   "outputs": [
    {
     "name": "stdout",
     "output_type": "stream",
     "text": [
      "Dataset loading...\n",
      "Data cleaning...\n",
      "Spliting in train and test...\n",
      "Taille du dataset de train : 480160\n",
      "Taille du dataset de test : 120040\n"
     ]
    }
   ],
   "source": [
    "import pandas as pd\n",
    "from catboost import CatBoostClassifier, Pool\n",
    "import sklearn.metrics as skl\n",
    "import matplotlib.pyplot as plt\n",
    "import os\n",
    "import shutil\n",
    "import random as rd\n",
    "import numpy as np\n",
    "\n",
    "homePath = \"C:/Users/thoma/OneDrive - CentraleSupelec/NOPLP/code/ML\"\n",
    "\n",
    "# Import du fichier util\n",
    "shutil.copy(homePath + \"/util.py\", homePath + \"/etudes/\")\n",
    "import util\n",
    "\n",
    "os.chdir(homePath)\n",
    "\n",
    "# Chargement du dataset\n",
    "print(\"Dataset loading...\")\n",
    "df = pd.read_csv(\"data/lossBenchmarkData.csv\", sep=\";\")\n",
    "\n",
    "# Data Cleaning\n",
    "print(\"Data cleaning...\")\n",
    "df = df.drop(columns=['id', 'Chanson_id'])\n",
    "reversed_cat = {'50': 1, '40': 2, '30': 3,\n",
    "                '20': 4, '10': 5, 'MC': 6, '20k': 7, None: 8}\n",
    "df = df.replace({'categorie': reversed_cat})\n",
    "\n",
    "# Split train / test\n",
    "print(\"Spliting in train and test...\")\n",
    "train = df[0:int(len(df)*0.8)]\n",
    "print(\"Taille du dataset de train : \" + str(len(train)))\n",
    "test = df[int(len(df)*0.8)+1:]\n",
    "print(\"Taille du dataset de test : \" + str(len(test)))\n",
    "train_labels = train['categorie']\n",
    "trainSL = train.drop(columns=['categorie'])\n",
    "train_data = trainSL\n",
    "test_labels = test['categorie']\n",
    "test = test.drop(columns=['categorie'])\n",
    "test_data = test\n",
    "test_pool = Pool(test_data,\n",
    "                 test_labels,\n",
    "                 cat_features=['titre', 'artiste', 'clusterid'])"
   ]
  },
  {
   "cell_type": "markdown",
   "metadata": {},
   "source": [
    "## II. Multiclass"
   ]
  },
  {
   "cell_type": "markdown",
   "metadata": {},
   "source": [
    "Let's test the Multiclass metric, with and without weight balancing"
   ]
  },
  {
   "cell_type": "markdown",
   "metadata": {},
   "source": [
    "### 1. Sans poids"
   ]
  },
  {
   "cell_type": "code",
   "execution_count": 7,
   "metadata": {},
   "outputs": [
    {
     "name": "stdout",
     "output_type": "stream",
     "text": [
      "Training the CatBoost model...\n"
     ]
    }
   ],
   "source": [
    "# Training model\n",
    "cat_features = ['titre', 'artiste', 'clusterid']\n",
    "model = util.trainModel(train_data, train_labels, cat_features)"
   ]
  },
  {
   "cell_type": "code",
   "execution_count": 8,
   "metadata": {},
   "outputs": [
    {
     "name": "stdout",
     "output_type": "stream",
     "text": [
      "Predicting on the test set...\n",
      "Confusion matrix :\n"
     ]
    },
    {
     "data": {
      "image/png": "[encoded data removed]",
      "text/plain": [
       "<Figure size 432x288 with 2 Axes>"
      ]
     },
     "metadata": {
      "needs_background": "light"
     },
     "output_type": "display_data"
    },
    {
     "name": "stdout",
     "output_type": "stream",
     "text": [
      "P5 = 0.0\n",
      "P6 = 0.0\n",
      "Precision = 0.0\n",
      "R5 = 0.0\n",
      "R6 = 0\n",
      "Recall = 0.0\n",
      "F1-score = 0\n"
     ]
    },
    {
     "data": {
      "text/plain": [
       "{'Precision': 0.0, 'Recall': 0.0, 'F1score': 0}"
      ]
     },
     "execution_count": 8,
     "metadata": {},
     "output_type": "execute_result"
    }
   ],
   "source": [
    "# Confusion matrix\n",
    "confusionMatrix = util.confusionMatrixCalculation(model, test_pool, test_data, test_labels)\n",
    "dispCM = skl.ConfusionMatrixDisplay(confusionMatrix)\n",
    "dispCM.plot()\n",
    "plt.show()\n",
    "\n",
    "# Calcul des métriques\n",
    "util.metricCalculation(confusionMatrix)"
   ]
  },
  {
   "cell_type": "markdown",
   "metadata": {},
   "source": [
    "C'est de la demer"
   ]
  },
  {
   "cell_type": "markdown",
   "metadata": {},
   "source": [
    "### 2. Avec poids"
   ]
  },
  {
   "cell_type": "code",
   "execution_count": 10,
   "metadata": {},
   "outputs": [
    {
     "name": "stdout",
     "output_type": "stream",
     "text": [
      "Training the CatBoost model...\n"
     ]
    },
    {
     "data": {
      "text/plain": [
       "<catboost.core.CatBoostClassifier at 0x22cba9a2708>"
      ]
     },
     "execution_count": 10,
     "metadata": {},
     "output_type": "execute_result"
    }
   ],
   "source": [
    "# Training model\n",
    "cat_features = ['titre', 'artiste', 'clusterid']\n",
    "class_weight = [0.1, 0.1, 0.1, 0.1, 0.1, 2, 1, 0.1]\n",
    "print(\"Training the CatBoost model...\")\n",
    "model = CatBoostClassifier(iterations=10,\n",
    "                            depth=10,\n",
    "                            learning_rate=1,\n",
    "                            loss_function='MultiClass',\n",
    "                            class_weights=class_weight,\n",
    "                            verbose=False)\n",
    "model.fit(train_data, train_labels, cat_features=cat_features)"
   ]
  },
  {
   "cell_type": "code",
   "execution_count": 11,
   "metadata": {},
   "outputs": [
    {
     "name": "stdout",
     "output_type": "stream",
     "text": [
      "Predicting on the test set...\n",
      "Confusion matrix :\n"
     ]
    },
    {
     "data": {
      "image/png": "[encoded data removed]",
      "text/plain": [
       "<Figure size 432x288 with 2 Axes>"
      ]
     },
     "metadata": {
      "needs_background": "light"
     },
     "output_type": "display_data"
    },
    {
     "name": "stdout",
     "output_type": "stream",
     "text": [
      "P5 = 9.5\n",
      "P6 = 0.5\n",
      "Precision = 8.6\n",
      "R5 = 0.5\n",
      "R6 = 0.1\n",
      "Recall = 0.3\n",
      "F1-score = 0.6\n"
     ]
    },
    {
     "data": {
      "text/plain": [
       "{'Precision': 8.6, 'Recall': 0.3, 'F1score': 0.6}"
      ]
     },
     "execution_count": 11,
     "metadata": {},
     "output_type": "execute_result"
    }
   ],
   "source": [
    "# Confusion matrix\n",
    "confusionMatrix = util.confusionMatrixCalculation(model, test_pool, test_data, test_labels)\n",
    "dispCM = skl.ConfusionMatrixDisplay(confusionMatrix)\n",
    "dispCM.plot()\n",
    "plt.show()\n",
    "\n",
    "# Calcul des métriques\n",
    "util.metricCalculation(confusionMatrix)"
   ]
  },
  {
   "cell_type": "markdown",
   "metadata": {},
   "source": [
    "**Conclusion :** C'est un peu mieux mais ça reste de la demer. Pour une prédiction juste, on fait 100 erreurs."
   ]
  },
  {
   "cell_type": "markdown",
   "metadata": {},
   "source": [
    "## III. Multiclass One Vs All"
   ]
  },
  {
   "cell_type": "markdown",
   "metadata": {},
   "source": [
    "### 1. Sans poids"
   ]
  },
  {
   "cell_type": "code",
   "execution_count": 12,
   "metadata": {},
   "outputs": [
    {
     "name": "stdout",
     "output_type": "stream",
     "text": [
      "Training the CatBoost model...\n"
     ]
    },
    {
     "data": {
      "text/plain": [
       "<catboost.core.CatBoostClassifier at 0x22cb8f0a488>"
      ]
     },
     "execution_count": 12,
     "metadata": {},
     "output_type": "execute_result"
    }
   ],
   "source": [
    "# Training model\n",
    "print(\"Training the CatBoost model...\")\n",
    "model = CatBoostClassifier(iterations=10,\n",
    "                            depth=10,\n",
    "                            learning_rate=1,\n",
    "                            loss_function='MultiClassOneVsAll',\n",
    "                            verbose=False)\n",
    "model.fit(train_data, train_labels, cat_features=cat_features)"
   ]
  },
  {
   "cell_type": "code",
   "execution_count": 13,
   "metadata": {},
   "outputs": [
    {
     "name": "stdout",
     "output_type": "stream",
     "text": [
      "Predicting on the test set...\n",
      "Confusion matrix :\n"
     ]
    },
    {
     "data": {
      "image/png": "[encoded data removed]",
      "text/plain": [
       "<Figure size 432x288 with 2 Axes>"
      ]
     },
     "metadata": {
      "needs_background": "light"
     },
     "output_type": "display_data"
    },
    {
     "name": "stdout",
     "output_type": "stream",
     "text": [
      "P5 = 0.0\n",
      "P6 = 0.0\n",
      "Precision = 0.0\n",
      "R5 = 0\n",
      "R6 = 0\n",
      "Recall = 0.0\n",
      "F1-score = 0\n"
     ]
    },
    {
     "data": {
      "text/plain": [
       "{'Precision': 0.0, 'Recall': 0.0, 'F1score': 0}"
      ]
     },
     "execution_count": 13,
     "metadata": {},
     "output_type": "execute_result"
    }
   ],
   "source": [
    "# Confusion matrix\n",
    "confusionMatrix = util.confusionMatrixCalculation(model, test_pool, test_data, test_labels)\n",
    "dispCM = skl.ConfusionMatrixDisplay(confusionMatrix)\n",
    "dispCM.plot()\n",
    "plt.show()\n",
    "\n",
    "# Calcul des métriques\n",
    "util.metricCalculation(confusionMatrix)"
   ]
  },
  {
   "cell_type": "markdown",
   "metadata": {},
   "source": [
    "C'est pire !"
   ]
  },
  {
   "cell_type": "markdown",
   "metadata": {},
   "source": [
    "### 2. Avec poids"
   ]
  },
  {
   "cell_type": "code",
   "execution_count": 14,
   "metadata": {},
   "outputs": [
    {
     "name": "stdout",
     "output_type": "stream",
     "text": [
      "Training the CatBoost model...\n"
     ]
    },
    {
     "data": {
      "text/plain": [
       "<catboost.core.CatBoostClassifier at 0x22cb8b81dc8>"
      ]
     },
     "execution_count": 14,
     "metadata": {},
     "output_type": "execute_result"
    }
   ],
   "source": [
    "print(\"Training the CatBoost model...\")\n",
    "class_weight = [0.1, 0.1, 0.1, 0.1, 0.1, 2, 1, 0.1]\n",
    "model = CatBoostClassifier(iterations=10,\n",
    "                            depth=10,\n",
    "                            learning_rate=1,\n",
    "                            loss_function='MultiClassOneVsAll',\n",
    "                            class_weights=class_weight,\n",
    "                            verbose=False)\n",
    "model.fit(train_data, train_labels, cat_features=cat_features)"
   ]
  },
  {
   "cell_type": "code",
   "execution_count": 15,
   "metadata": {},
   "outputs": [
    {
     "name": "stdout",
     "output_type": "stream",
     "text": [
      "Predicting on the test set...\n",
      "Confusion matrix :\n"
     ]
    },
    {
     "data": {
      "image/png": "[encoded data removed]",
      "text/plain": [
       "<Figure size 432x288 with 2 Axes>"
      ]
     },
     "metadata": {
      "needs_background": "light"
     },
     "output_type": "display_data"
    },
    {
     "name": "stdout",
     "output_type": "stream",
     "text": [
      "P5 = 2.6\n",
      "P6 = 0.0\n",
      "Precision = 2.3\n",
      "R5 = 1.2\n",
      "R6 = 0.0\n",
      "Recall = 0.6\n",
      "F1-score = 1.0\n"
     ]
    },
    {
     "data": {
      "text/plain": [
       "{'Precision': 2.3, 'Recall': 0.6, 'F1score': 1.0}"
      ]
     },
     "execution_count": 15,
     "metadata": {},
     "output_type": "execute_result"
    }
   ],
   "source": [
    "# Confusion matrix\n",
    "confusionMatrix = util.confusionMatrixCalculation(model, test_pool, test_data, test_labels)\n",
    "dispCM = skl.ConfusionMatrixDisplay(confusionMatrix)\n",
    "dispCM.plot()\n",
    "plt.show()\n",
    "\n",
    "# Calcul des métriques\n",
    "util.metricCalculation(confusionMatrix)"
   ]
  },
  {
   "cell_type": "markdown",
   "metadata": {},
   "source": [
    "**Conclusion :** La méthode OneVsAll avec poids performe légèrement mieux que la méthode classique."
   ]
  },
  {
   "cell_type": "markdown",
   "metadata": {},
   "source": [
    "## IV. Grid Search pour les poids\n",
    "\n",
    "On remarque donc que ce qui fonctionne le mieux est la loss OneVsAll avec des poids. On cherche maintenant à optimiser les poids à mettre sur chaque classe pour maximiser notre *F1-score* customisé."
   ]
  },
  {
   "cell_type": "code",
   "execution_count": 4,
   "metadata": {},
   "outputs": [
    {
     "name": "stdout",
     "output_type": "stream",
     "text": [
      "[1, 0.3, 0.1, 0.3, 0, 5, 5, 0.5]\n",
      "Predicting on the test set...\n",
      "Confusion matrix :\n",
      "[0.1, 0.3, 1, 0, 1, 0.25, 0.25, 0.3]\n",
      "Predicting on the test set...\n",
      "Confusion matrix :\n",
      "[0.5, 0.5, 0.5, 0.5, 0, 0.25, 0.25, 1]\n",
      "Predicting on the test set...\n",
      "Confusion matrix :\n",
      "[0, 1, 0.3, 0.3, 0, 0.25, 5, 0.1]\n",
      "Predicting on the test set...\n",
      "Confusion matrix :\n",
      "[0.1, 0.5, 0.1, 0, 1, 0.25, 5, 0.1]\n",
      "Predicting on the test set...\n",
      "Confusion matrix :\n",
      "[1, 0.5, 1, 0.3, 1, 2, 1, 1]\n",
      "Predicting on the test set...\n",
      "Confusion matrix :\n",
      "[0.3, 0.1, 0.3, 0.3, 0.1, 1, 1, 0.1]\n",
      "Predicting on the test set...\n",
      "Confusion matrix :\n",
      "[0, 0, 0.1, 0.3, 0.3, 2, 1, 0.3]\n",
      "Predicting on the test set...\n",
      "Confusion matrix :\n",
      "[0.5, 0.1, 0.3, 0.1, 0.3, 0.5, 5, 0]\n",
      "Predicting on the test set...\n",
      "Confusion matrix :\n",
      "[0.5, 0, 1, 0.1, 0.1, 2, 0.5, 1]\n",
      "Predicting on the test set...\n",
      "Confusion matrix :\n",
      "[0.1, 0.5, 0, 0.1, 0, 0.25, 5, 0]\n",
      "Predicting on the test set...\n",
      "Confusion matrix :\n",
      "[0.3, 1, 0.5, 1, 0.1, 2, 0.5, 0]\n",
      "Predicting on the test set...\n",
      "Confusion matrix :\n",
      "[0.1, 1, 0.5, 0.5, 0.3, 5, 5, 0]\n",
      "Predicting on the test set...\n",
      "Confusion matrix :\n",
      "[0.3, 0.5, 0.5, 0, 0, 0.5, 0.25, 1]\n",
      "Predicting on the test set...\n",
      "Confusion matrix :\n",
      "[0.3, 1, 1, 0, 1, 1, 0.5, 1]\n",
      "Predicting on the test set...\n",
      "Confusion matrix :\n",
      "[0.3, 0.1, 0.5, 0.5, 1, 0.5, 0.25, 1]\n",
      "Predicting on the test set...\n",
      "Confusion matrix :\n",
      "[0, 1, 0.3, 0.3, 0, 5, 0.25, 0.1]\n",
      "Predicting on the test set...\n",
      "Confusion matrix :\n",
      "[1, 0, 0.1, 0.5, 0, 0.25, 1, 0.1]\n",
      "Predicting on the test set...\n",
      "Confusion matrix :\n",
      "[1, 0.1, 0.5, 1, 1, 2, 5, 0.5]\n",
      "Predicting on the test set...\n",
      "Confusion matrix :\n",
      "[0, 0, 0.5, 1, 0.3, 5, 1, 0.1]\n",
      "Predicting on the test set...\n",
      "Confusion matrix :\n"
     ]
    }
   ],
   "source": [
    "petites = [0, 0.1, 0.3, 0.5, 1]\n",
    "grandes = [0.25, 0.5, 1, 2, 5, 10]\n",
    "cat_features = ['titre', 'artiste', 'clusterid']\n",
    "\n",
    "N = 20\n",
    "res = []\n",
    "\n",
    "for i in range(N):\n",
    "    \n",
    "    # On choisit des poids au hasard\n",
    "    class_weight = [petites[rd.randint(0,4)], petites[rd.randint(0,4)], petites[rd.randint(0,4)], petites[rd.randint(0,4)], petites[rd.randint(0,4)], grandes[rd.randint(0,4)], grandes[rd.randint(0,4)], petites[rd.randint(0,4)]]\n",
    "    print(class_weight)\n",
    "    # On entraine le modèle\n",
    "    model = CatBoostClassifier(iterations=10,\n",
    "                            depth=10,\n",
    "                            learning_rate=1,\n",
    "                            loss_function='MultiClassOneVsAll',\n",
    "                            class_weights=class_weight,\n",
    "                            verbose=False)\n",
    "    model.fit(train_data, train_labels, cat_features=cat_features)\n",
    "    # On calcule la matrice de confusion\n",
    "    confusionMatrix = util.confusionMatrixCalculation(model, test_pool, test_data, test_labels)\n",
    "    dispCM = skl.ConfusionMatrixDisplay(confusionMatrix)\n",
    "    # On calcule le F1-score\n",
    "    metriques = util.metricCalculation(confusionMatrix)\n",
    "\n",
    "    res.append(class_weight + [metriques[\"F1score\"]])"
   ]
  },
  {
   "cell_type": "code",
   "execution_count": 5,
   "metadata": {},
   "outputs": [
    {
     "data": {
      "text/html": [
       "<div>\n",
       "<style scoped>\n",
       "    .dataframe tbody tr th:only-of-type {\n",
       "        vertical-align: middle;\n",
       "    }\n",
       "\n",
       "    .dataframe tbody tr th {\n",
       "        vertical-align: top;\n",
       "    }\n",
       "\n",
       "    .dataframe thead th {\n",
       "        text-align: right;\n",
       "    }\n",
       "</style>\n",
       "<table border=\"1\" class=\"dataframe\">\n",
       "  <thead>\n",
       "    <tr style=\"text-align: right;\">\n",
       "      <th></th>\n",
       "      <th>50</th>\n",
       "      <th>40</th>\n",
       "      <th>30</th>\n",
       "      <th>20</th>\n",
       "      <th>10</th>\n",
       "      <th>MC</th>\n",
       "      <th>20k</th>\n",
       "      <th>PP</th>\n",
       "      <th>F1score</th>\n",
       "    </tr>\n",
       "  </thead>\n",
       "  <tbody>\n",
       "    <tr>\n",
       "      <th>10</th>\n",
       "      <td>0.1</td>\n",
       "      <td>0.5</td>\n",
       "      <td>0.0</td>\n",
       "      <td>0.1</td>\n",
       "      <td>0.0</td>\n",
       "      <td>0.25</td>\n",
       "      <td>5.00</td>\n",
       "      <td>0.0</td>\n",
       "      <td>0.8</td>\n",
       "    </tr>\n",
       "    <tr>\n",
       "      <th>8</th>\n",
       "      <td>0.5</td>\n",
       "      <td>0.1</td>\n",
       "      <td>0.3</td>\n",
       "      <td>0.1</td>\n",
       "      <td>0.3</td>\n",
       "      <td>0.50</td>\n",
       "      <td>5.00</td>\n",
       "      <td>0.0</td>\n",
       "      <td>0.8</td>\n",
       "    </tr>\n",
       "    <tr>\n",
       "      <th>12</th>\n",
       "      <td>0.1</td>\n",
       "      <td>1.0</td>\n",
       "      <td>0.5</td>\n",
       "      <td>0.5</td>\n",
       "      <td>0.3</td>\n",
       "      <td>5.00</td>\n",
       "      <td>5.00</td>\n",
       "      <td>0.0</td>\n",
       "      <td>0.8</td>\n",
       "    </tr>\n",
       "    <tr>\n",
       "      <th>11</th>\n",
       "      <td>0.3</td>\n",
       "      <td>1.0</td>\n",
       "      <td>0.5</td>\n",
       "      <td>1.0</td>\n",
       "      <td>0.1</td>\n",
       "      <td>2.00</td>\n",
       "      <td>0.50</td>\n",
       "      <td>0.0</td>\n",
       "      <td>0.8</td>\n",
       "    </tr>\n",
       "    <tr>\n",
       "      <th>16</th>\n",
       "      <td>0.0</td>\n",
       "      <td>1.0</td>\n",
       "      <td>0.3</td>\n",
       "      <td>0.3</td>\n",
       "      <td>0.0</td>\n",
       "      <td>5.00</td>\n",
       "      <td>0.25</td>\n",
       "      <td>0.1</td>\n",
       "      <td>0.4</td>\n",
       "    </tr>\n",
       "    <tr>\n",
       "      <th>19</th>\n",
       "      <td>0.0</td>\n",
       "      <td>0.0</td>\n",
       "      <td>0.5</td>\n",
       "      <td>1.0</td>\n",
       "      <td>0.3</td>\n",
       "      <td>5.00</td>\n",
       "      <td>1.00</td>\n",
       "      <td>0.1</td>\n",
       "      <td>0.4</td>\n",
       "    </tr>\n",
       "    <tr>\n",
       "      <th>4</th>\n",
       "      <td>0.1</td>\n",
       "      <td>0.5</td>\n",
       "      <td>0.1</td>\n",
       "      <td>0.0</td>\n",
       "      <td>1.0</td>\n",
       "      <td>0.25</td>\n",
       "      <td>5.00</td>\n",
       "      <td>0.1</td>\n",
       "      <td>0.2</td>\n",
       "    </tr>\n",
       "    <tr>\n",
       "      <th>6</th>\n",
       "      <td>0.3</td>\n",
       "      <td>0.1</td>\n",
       "      <td>0.3</td>\n",
       "      <td>0.3</td>\n",
       "      <td>0.1</td>\n",
       "      <td>1.00</td>\n",
       "      <td>1.00</td>\n",
       "      <td>0.1</td>\n",
       "      <td>0.0</td>\n",
       "    </tr>\n",
       "    <tr>\n",
       "      <th>7</th>\n",
       "      <td>0.0</td>\n",
       "      <td>0.0</td>\n",
       "      <td>0.1</td>\n",
       "      <td>0.3</td>\n",
       "      <td>0.3</td>\n",
       "      <td>2.00</td>\n",
       "      <td>1.00</td>\n",
       "      <td>0.3</td>\n",
       "      <td>0.0</td>\n",
       "    </tr>\n",
       "    <tr>\n",
       "      <th>5</th>\n",
       "      <td>1.0</td>\n",
       "      <td>0.5</td>\n",
       "      <td>1.0</td>\n",
       "      <td>0.3</td>\n",
       "      <td>1.0</td>\n",
       "      <td>2.00</td>\n",
       "      <td>1.00</td>\n",
       "      <td>1.0</td>\n",
       "      <td>0.0</td>\n",
       "    </tr>\n",
       "    <tr>\n",
       "      <th>9</th>\n",
       "      <td>0.5</td>\n",
       "      <td>0.0</td>\n",
       "      <td>1.0</td>\n",
       "      <td>0.1</td>\n",
       "      <td>0.1</td>\n",
       "      <td>2.00</td>\n",
       "      <td>0.50</td>\n",
       "      <td>1.0</td>\n",
       "      <td>0.0</td>\n",
       "    </tr>\n",
       "    <tr>\n",
       "      <th>1</th>\n",
       "      <td>0.1</td>\n",
       "      <td>0.3</td>\n",
       "      <td>1.0</td>\n",
       "      <td>0.0</td>\n",
       "      <td>1.0</td>\n",
       "      <td>0.25</td>\n",
       "      <td>0.25</td>\n",
       "      <td>0.3</td>\n",
       "      <td>0.0</td>\n",
       "    </tr>\n",
       "    <tr>\n",
       "      <th>3</th>\n",
       "      <td>0.0</td>\n",
       "      <td>1.0</td>\n",
       "      <td>0.3</td>\n",
       "      <td>0.3</td>\n",
       "      <td>0.0</td>\n",
       "      <td>0.25</td>\n",
       "      <td>5.00</td>\n",
       "      <td>0.1</td>\n",
       "      <td>0.0</td>\n",
       "    </tr>\n",
       "    <tr>\n",
       "      <th>13</th>\n",
       "      <td>0.3</td>\n",
       "      <td>0.5</td>\n",
       "      <td>0.5</td>\n",
       "      <td>0.0</td>\n",
       "      <td>0.0</td>\n",
       "      <td>0.50</td>\n",
       "      <td>0.25</td>\n",
       "      <td>1.0</td>\n",
       "      <td>0.0</td>\n",
       "    </tr>\n",
       "    <tr>\n",
       "      <th>14</th>\n",
       "      <td>0.3</td>\n",
       "      <td>1.0</td>\n",
       "      <td>1.0</td>\n",
       "      <td>0.0</td>\n",
       "      <td>1.0</td>\n",
       "      <td>1.00</td>\n",
       "      <td>0.50</td>\n",
       "      <td>1.0</td>\n",
       "      <td>0.0</td>\n",
       "    </tr>\n",
       "    <tr>\n",
       "      <th>15</th>\n",
       "      <td>0.3</td>\n",
       "      <td>0.1</td>\n",
       "      <td>0.5</td>\n",
       "      <td>0.5</td>\n",
       "      <td>1.0</td>\n",
       "      <td>0.50</td>\n",
       "      <td>0.25</td>\n",
       "      <td>1.0</td>\n",
       "      <td>0.0</td>\n",
       "    </tr>\n",
       "    <tr>\n",
       "      <th>2</th>\n",
       "      <td>0.5</td>\n",
       "      <td>0.5</td>\n",
       "      <td>0.5</td>\n",
       "      <td>0.5</td>\n",
       "      <td>0.0</td>\n",
       "      <td>0.25</td>\n",
       "      <td>0.25</td>\n",
       "      <td>1.0</td>\n",
       "      <td>0.0</td>\n",
       "    </tr>\n",
       "    <tr>\n",
       "      <th>17</th>\n",
       "      <td>1.0</td>\n",
       "      <td>0.0</td>\n",
       "      <td>0.1</td>\n",
       "      <td>0.5</td>\n",
       "      <td>0.0</td>\n",
       "      <td>0.25</td>\n",
       "      <td>1.00</td>\n",
       "      <td>0.1</td>\n",
       "      <td>0.0</td>\n",
       "    </tr>\n",
       "    <tr>\n",
       "      <th>18</th>\n",
       "      <td>1.0</td>\n",
       "      <td>0.1</td>\n",
       "      <td>0.5</td>\n",
       "      <td>1.0</td>\n",
       "      <td>1.0</td>\n",
       "      <td>2.00</td>\n",
       "      <td>5.00</td>\n",
       "      <td>0.5</td>\n",
       "      <td>0.0</td>\n",
       "    </tr>\n",
       "    <tr>\n",
       "      <th>0</th>\n",
       "      <td>1.0</td>\n",
       "      <td>0.3</td>\n",
       "      <td>0.1</td>\n",
       "      <td>0.3</td>\n",
       "      <td>0.0</td>\n",
       "      <td>5.00</td>\n",
       "      <td>5.00</td>\n",
       "      <td>0.5</td>\n",
       "      <td>0.0</td>\n",
       "    </tr>\n",
       "  </tbody>\n",
       "</table>\n",
       "</div>"
      ],
      "text/plain": [
       "     50   40   30   20   10    MC   20k   PP  F1score\n",
       "10  0.1  0.5  0.0  0.1  0.0  0.25  5.00  0.0      0.8\n",
       "8   0.5  0.1  0.3  0.1  0.3  0.50  5.00  0.0      0.8\n",
       "12  0.1  1.0  0.5  0.5  0.3  5.00  5.00  0.0      0.8\n",
       "11  0.3  1.0  0.5  1.0  0.1  2.00  0.50  0.0      0.8\n",
       "16  0.0  1.0  0.3  0.3  0.0  5.00  0.25  0.1      0.4\n",
       "19  0.0  0.0  0.5  1.0  0.3  5.00  1.00  0.1      0.4\n",
       "4   0.1  0.5  0.1  0.0  1.0  0.25  5.00  0.1      0.2\n",
       "6   0.3  0.1  0.3  0.3  0.1  1.00  1.00  0.1      0.0\n",
       "7   0.0  0.0  0.1  0.3  0.3  2.00  1.00  0.3      0.0\n",
       "5   1.0  0.5  1.0  0.3  1.0  2.00  1.00  1.0      0.0\n",
       "9   0.5  0.0  1.0  0.1  0.1  2.00  0.50  1.0      0.0\n",
       "1   0.1  0.3  1.0  0.0  1.0  0.25  0.25  0.3      0.0\n",
       "3   0.0  1.0  0.3  0.3  0.0  0.25  5.00  0.1      0.0\n",
       "13  0.3  0.5  0.5  0.0  0.0  0.50  0.25  1.0      0.0\n",
       "14  0.3  1.0  1.0  0.0  1.0  1.00  0.50  1.0      0.0\n",
       "15  0.3  0.1  0.5  0.5  1.0  0.50  0.25  1.0      0.0\n",
       "2   0.5  0.5  0.5  0.5  0.0  0.25  0.25  1.0      0.0\n",
       "17  1.0  0.0  0.1  0.5  0.0  0.25  1.00  0.1      0.0\n",
       "18  1.0  0.1  0.5  1.0  1.0  2.00  5.00  0.5      0.0\n",
       "0   1.0  0.3  0.1  0.3  0.0  5.00  5.00  0.5      0.0"
      ]
     },
     "execution_count": 5,
     "metadata": {},
     "output_type": "execute_result"
    }
   ],
   "source": [
    "dfRes = pd.DataFrame(np.array(res), columns = [\"50\", \"40\", \"30\", \"20\", \"10\", \"MC\", \"20k\", \"PP\", \"F1score\"])\n",
    "dfRes.sort_values(by = \"F1score\", ascending = False)"
   ]
  },
  {
   "cell_type": "markdown",
   "metadata": {},
   "source": [
    "Essayons de prendre la moyenne des poids obtenus pour le meilleur résultat"
   ]
  },
  {
   "cell_type": "code",
   "execution_count": 6,
   "metadata": {},
   "outputs": [
    {
     "data": {
      "text/plain": [
       "50         0.2500\n",
       "40         0.6500\n",
       "30         0.3250\n",
       "20         0.4250\n",
       "10         0.1750\n",
       "MC         1.9375\n",
       "20k        3.8750\n",
       "PP         0.0000\n",
       "F1score    0.8000\n",
       "dtype: float64"
      ]
     },
     "execution_count": 6,
     "metadata": {},
     "output_type": "execute_result"
    }
   ],
   "source": [
    "dfRes[dfRes['F1score'] >= 0.8].mean()"
   ]
  },
  {
   "cell_type": "markdown",
   "metadata": {},
   "source": [
    "## V. Grid Search pour les hyperparamètres d'entrainement"
   ]
  },
  {
   "cell_type": "markdown",
   "metadata": {},
   "source": [
    "On optimise maintenant les hyperparamètres d'entrainement du modèle"
   ]
  },
  {
   "cell_type": "code",
   "execution_count": 10,
   "metadata": {},
   "outputs": [
    {
     "name": "stdout",
     "output_type": "stream",
     "text": [
      "[1, 8, 0.10978878415320348]\n",
      "Predicting on the test set...\n",
      "Confusion matrix :\n",
      "[31, 9, 0.6406380688374607]\n",
      "Predicting on the test set...\n",
      "Confusion matrix :\n",
      "[9, 14, 0.4396511801021109]\n",
      "Predicting on the test set...\n",
      "Confusion matrix :\n",
      "[5, 9, 0.9682886011927002]\n",
      "Predicting on the test set...\n",
      "Confusion matrix :\n",
      "[22, 5, 0.1394182588294156]\n",
      "Predicting on the test set...\n",
      "Confusion matrix :\n",
      "[22, 7, 0.8833403864105397]\n",
      "Predicting on the test set...\n",
      "Confusion matrix :\n",
      "[9, 9, 0.09427302711619512]\n",
      "Predicting on the test set...\n",
      "Confusion matrix :\n",
      "[19, 5, 0.3967028327236978]\n",
      "Predicting on the test set...\n",
      "Confusion matrix :\n",
      "[30, 8, 0.015285452737217597]\n",
      "Predicting on the test set...\n",
      "Confusion matrix :\n",
      "[38, 4, 0.038864327730555925]\n",
      "Predicting on the test set...\n",
      "Confusion matrix :\n",
      "[21, 14, 0.025853704952198298]\n",
      "Predicting on the test set...\n",
      "Confusion matrix :\n",
      "[20, 9, 0.18752845003485474]\n",
      "Predicting on the test set...\n",
      "Confusion matrix :\n",
      "[35, 1, 0.07742601863571574]\n",
      "Predicting on the test set...\n",
      "Confusion matrix :\n",
      "[19, 14, 0.9098949311231993]\n",
      "Predicting on the test set...\n",
      "Confusion matrix :\n",
      "[7, 12, 0.2653099052815695]\n",
      "Predicting on the test set...\n",
      "Confusion matrix :\n",
      "[11, 15, 0.011183130116869444]\n",
      "Predicting on the test set...\n",
      "Confusion matrix :\n",
      "[18, 14, 0.05647252855833129]\n",
      "Predicting on the test set...\n",
      "Confusion matrix :\n",
      "[16, 6, 0.3720560572436117]\n",
      "Predicting on the test set...\n",
      "Confusion matrix :\n",
      "[33, 4, 0.48546781267294326]\n",
      "Predicting on the test set...\n",
      "Confusion matrix :\n",
      "[48, 7, 0.31579108107092413]\n",
      "Predicting on the test set...\n",
      "Confusion matrix :\n"
     ]
    }
   ],
   "source": [
    "class_weight = [0.25, 0.65, 0.325, 0.425, 0.175, 1.9375, 3.875, 0]\n",
    "cat_features = ['titre', 'artiste', 'clusterid']\n",
    "\n",
    "N = 20\n",
    "res = []\n",
    "\n",
    "for i in range(N):\n",
    "    \n",
    "    # On choisit des hyperparamètres au hasard\n",
    "    iterations = rd.randint(1, 50)\n",
    "    depth = rd.randint(1, 16)\n",
    "    learning_rate = rd.uniform(0, 1)\n",
    "    params = [iterations, depth, learning_rate]\n",
    "    print(params)\n",
    "    # On entraine le modèle\n",
    "    model = CatBoostClassifier(iterations=iterations,\n",
    "                            depth=depth,\n",
    "                            learning_rate=learning_rate,\n",
    "                            loss_function='MultiClassOneVsAll',\n",
    "                            class_weights=class_weight,\n",
    "                            verbose=False)\n",
    "    model.fit(train_data, train_labels, cat_features=cat_features)\n",
    "    # On calcule la matrice de confusion\n",
    "    confusionMatrix = util.confusionMatrixCalculation(model, test_pool, test_data, test_labels)\n",
    "    dispCM = skl.ConfusionMatrixDisplay(confusionMatrix)\n",
    "    # On calcule le F1-score\n",
    "    metriques = util.metricCalculation(confusionMatrix)\n",
    "\n",
    "    res.append(params + [metriques[\"F1score\"]])"
   ]
  },
  {
   "cell_type": "code",
   "execution_count": 12,
   "metadata": {},
   "outputs": [
    {
     "data": {
      "text/plain": [
       "[[1, 8, 0.10978878415320348, 0.8],\n",
       " [31, 9, 0.6406380688374607, 0.8],\n",
       " [9, 14, 0.4396511801021109, 0.8],\n",
       " [5, 9, 0.9682886011927002, 0.8],\n",
       " [22, 5, 0.1394182588294156, 0.8],\n",
       " [22, 7, 0.8833403864105397, 0.8],\n",
       " [9, 9, 0.09427302711619512, 0.8],\n",
       " [19, 5, 0.3967028327236978, 0.8],\n",
       " [30, 8, 0.015285452737217597, 0.8],\n",
       " [38, 4, 0.038864327730555925, 0.8],\n",
       " [21, 14, 0.025853704952198298, 0.8],\n",
       " [20, 9, 0.18752845003485474, 0.8],\n",
       " [35, 1, 0.07742601863571574, 0.8],\n",
       " [19, 14, 0.9098949311231993, 0.8],\n",
       " [7, 12, 0.2653099052815695, 0.8],\n",
       " [11, 15, 0.011183130116869444, 0.8],\n",
       " [18, 14, 0.05647252855833129, 0.8],\n",
       " [16, 6, 0.3720560572436117, 0.8],\n",
       " [33, 4, 0.48546781267294326, 0.8],\n",
       " [48, 7, 0.31579108107092413, 0.8]]"
      ]
     },
     "execution_count": 12,
     "metadata": {},
     "output_type": "execute_result"
    }
   ],
   "source": [
    "res"
   ]
  },
  {
   "cell_type": "code",
   "execution_count": 11,
   "metadata": {},
   "outputs": [
    {
     "data": {
      "text/html": [
       "<div>\n",
       "<style scoped>\n",
       "    .dataframe tbody tr th:only-of-type {\n",
       "        vertical-align: middle;\n",
       "    }\n",
       "\n",
       "    .dataframe tbody tr th {\n",
       "        vertical-align: top;\n",
       "    }\n",
       "\n",
       "    .dataframe thead th {\n",
       "        text-align: right;\n",
       "    }\n",
       "</style>\n",
       "<table border=\"1\" class=\"dataframe\">\n",
       "  <thead>\n",
       "    <tr style=\"text-align: right;\">\n",
       "      <th></th>\n",
       "      <th>iterations</th>\n",
       "      <th>depth</th>\n",
       "      <th>eta</th>\n",
       "      <th>F1score</th>\n",
       "    </tr>\n",
       "  </thead>\n",
       "  <tbody>\n",
       "    <tr>\n",
       "      <th>0</th>\n",
       "      <td>1.0</td>\n",
       "      <td>8.0</td>\n",
       "      <td>0.109789</td>\n",
       "      <td>0.8</td>\n",
       "    </tr>\n",
       "    <tr>\n",
       "      <th>1</th>\n",
       "      <td>31.0</td>\n",
       "      <td>9.0</td>\n",
       "      <td>0.640638</td>\n",
       "      <td>0.8</td>\n",
       "    </tr>\n",
       "    <tr>\n",
       "      <th>18</th>\n",
       "      <td>33.0</td>\n",
       "      <td>4.0</td>\n",
       "      <td>0.485468</td>\n",
       "      <td>0.8</td>\n",
       "    </tr>\n",
       "    <tr>\n",
       "      <th>17</th>\n",
       "      <td>16.0</td>\n",
       "      <td>6.0</td>\n",
       "      <td>0.372056</td>\n",
       "      <td>0.8</td>\n",
       "    </tr>\n",
       "    <tr>\n",
       "      <th>16</th>\n",
       "      <td>18.0</td>\n",
       "      <td>14.0</td>\n",
       "      <td>0.056473</td>\n",
       "      <td>0.8</td>\n",
       "    </tr>\n",
       "    <tr>\n",
       "      <th>15</th>\n",
       "      <td>11.0</td>\n",
       "      <td>15.0</td>\n",
       "      <td>0.011183</td>\n",
       "      <td>0.8</td>\n",
       "    </tr>\n",
       "    <tr>\n",
       "      <th>14</th>\n",
       "      <td>7.0</td>\n",
       "      <td>12.0</td>\n",
       "      <td>0.265310</td>\n",
       "      <td>0.8</td>\n",
       "    </tr>\n",
       "    <tr>\n",
       "      <th>13</th>\n",
       "      <td>19.0</td>\n",
       "      <td>14.0</td>\n",
       "      <td>0.909895</td>\n",
       "      <td>0.8</td>\n",
       "    </tr>\n",
       "    <tr>\n",
       "      <th>12</th>\n",
       "      <td>35.0</td>\n",
       "      <td>1.0</td>\n",
       "      <td>0.077426</td>\n",
       "      <td>0.8</td>\n",
       "    </tr>\n",
       "    <tr>\n",
       "      <th>11</th>\n",
       "      <td>20.0</td>\n",
       "      <td>9.0</td>\n",
       "      <td>0.187528</td>\n",
       "      <td>0.8</td>\n",
       "    </tr>\n",
       "    <tr>\n",
       "      <th>10</th>\n",
       "      <td>21.0</td>\n",
       "      <td>14.0</td>\n",
       "      <td>0.025854</td>\n",
       "      <td>0.8</td>\n",
       "    </tr>\n",
       "    <tr>\n",
       "      <th>9</th>\n",
       "      <td>38.0</td>\n",
       "      <td>4.0</td>\n",
       "      <td>0.038864</td>\n",
       "      <td>0.8</td>\n",
       "    </tr>\n",
       "    <tr>\n",
       "      <th>8</th>\n",
       "      <td>30.0</td>\n",
       "      <td>8.0</td>\n",
       "      <td>0.015285</td>\n",
       "      <td>0.8</td>\n",
       "    </tr>\n",
       "    <tr>\n",
       "      <th>7</th>\n",
       "      <td>19.0</td>\n",
       "      <td>5.0</td>\n",
       "      <td>0.396703</td>\n",
       "      <td>0.8</td>\n",
       "    </tr>\n",
       "    <tr>\n",
       "      <th>6</th>\n",
       "      <td>9.0</td>\n",
       "      <td>9.0</td>\n",
       "      <td>0.094273</td>\n",
       "      <td>0.8</td>\n",
       "    </tr>\n",
       "    <tr>\n",
       "      <th>5</th>\n",
       "      <td>22.0</td>\n",
       "      <td>7.0</td>\n",
       "      <td>0.883340</td>\n",
       "      <td>0.8</td>\n",
       "    </tr>\n",
       "    <tr>\n",
       "      <th>4</th>\n",
       "      <td>22.0</td>\n",
       "      <td>5.0</td>\n",
       "      <td>0.139418</td>\n",
       "      <td>0.8</td>\n",
       "    </tr>\n",
       "    <tr>\n",
       "      <th>3</th>\n",
       "      <td>5.0</td>\n",
       "      <td>9.0</td>\n",
       "      <td>0.968289</td>\n",
       "      <td>0.8</td>\n",
       "    </tr>\n",
       "    <tr>\n",
       "      <th>2</th>\n",
       "      <td>9.0</td>\n",
       "      <td>14.0</td>\n",
       "      <td>0.439651</td>\n",
       "      <td>0.8</td>\n",
       "    </tr>\n",
       "    <tr>\n",
       "      <th>19</th>\n",
       "      <td>48.0</td>\n",
       "      <td>7.0</td>\n",
       "      <td>0.315791</td>\n",
       "      <td>0.8</td>\n",
       "    </tr>\n",
       "  </tbody>\n",
       "</table>\n",
       "</div>"
      ],
      "text/plain": [
       "    iterations  depth       eta  F1score\n",
       "0          1.0    8.0  0.109789      0.8\n",
       "1         31.0    9.0  0.640638      0.8\n",
       "18        33.0    4.0  0.485468      0.8\n",
       "17        16.0    6.0  0.372056      0.8\n",
       "16        18.0   14.0  0.056473      0.8\n",
       "15        11.0   15.0  0.011183      0.8\n",
       "14         7.0   12.0  0.265310      0.8\n",
       "13        19.0   14.0  0.909895      0.8\n",
       "12        35.0    1.0  0.077426      0.8\n",
       "11        20.0    9.0  0.187528      0.8\n",
       "10        21.0   14.0  0.025854      0.8\n",
       "9         38.0    4.0  0.038864      0.8\n",
       "8         30.0    8.0  0.015285      0.8\n",
       "7         19.0    5.0  0.396703      0.8\n",
       "6          9.0    9.0  0.094273      0.8\n",
       "5         22.0    7.0  0.883340      0.8\n",
       "4         22.0    5.0  0.139418      0.8\n",
       "3          5.0    9.0  0.968289      0.8\n",
       "2          9.0   14.0  0.439651      0.8\n",
       "19        48.0    7.0  0.315791      0.8"
      ]
     },
     "execution_count": 11,
     "metadata": {},
     "output_type": "execute_result"
    }
   ],
   "source": [
    "dfRes = pd.DataFrame(np.array(res), columns = [\"iterations\", \"depth\", \"eta\", \"F1score\"])\n",
    "dfRes.sort_values(by = \"F1score\", ascending = False)"
   ]
  }
 ],
 "metadata": {
  "kernelspec": {
   "display_name": "Python 3.7.8 64-bit",
   "language": "python",
   "name": "python3"
  },
  "language_info": {
   "codemirror_mode": {
    "name": "ipython",
    "version": 3
   },
   "file_extension": ".py",
   "mimetype": "text/x-python",
   "name": "python",
   "nbconvert_exporter": "python",
   "pygments_lexer": "ipython3",
   "version": "3.7.8"
  },
  "orig_nbformat": 4,
  "vscode": {
   "interpreter": {
    "hash": "5109d816b82be14675a6b11f8e0f0d2e80f029176ed3710d54e125caa8520dfd"
   }
  }
 },
 "nbformat": 4,
 "nbformat_minor": 2
}
