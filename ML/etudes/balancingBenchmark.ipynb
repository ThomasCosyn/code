{
 "cells": [
  {
   "cell_type": "markdown",
   "metadata": {},
   "source": [
    "# Rebalancing Benchmark for Catboost MultiClass Classification\n",
    "\n",
    "Since only 22 songs are proposed each day on the 2k dataset, the class are unbalanced with the following proportions : <br/>\n",
    "- 50 : 0,18%\n",
    "- 40 : 0,18%\n",
    "- 30 : 0,18%\n",
    "- 20 : <0,18%\n",
    "- 10 : <0,18%\n",
    "- MC : 0,09%\n",
    "- 20k : 0,18%\n",
    "- PP : 99,02%\n",
    "\n",
    "Hence, we clearly have an unbalanced dataset and we need to address this problem"
   ]
  },
  {
   "cell_type": "markdown",
   "metadata": {},
   "source": [
    "## I. Dataset loading"
   ]
  },
  {
   "cell_type": "code",
   "execution_count": 19,
   "metadata": {},
   "outputs": [
    {
     "name": "stdout",
     "output_type": "stream",
     "text": [
      "Dataset loading...\n",
      "Data cleaning...\n",
      "Spliting in train and test...\n",
      "Taille du dataset de train : 206130\n",
      "Taille du dataset de test : 51532\n"
     ]
    }
   ],
   "source": [
    "import pandas as pd\n",
    "from catboost import CatBoostClassifier, Pool\n",
    "import sklearn.metrics as skl\n",
    "import matplotlib.pyplot as plt\n",
    "import os\n",
    "import util\n",
    "\n",
    "os.chdir(\"C:/Users/thoma/OneDrive - CentraleSupelec/NOPLP/code/ML\")\n",
    "\n",
    "# Chargement du dataset\n",
    "print(\"Dataset loading...\")\n",
    "df = pd.read_csv(\"data/lossBenchmarkData.csv\", sep=\";\")\n",
    "\n",
    "# Data Cleaning\n",
    "print(\"Data cleaning...\")\n",
    "df = df.drop(columns=['Unnamed: 0', 'id', 'Chanson_id'])\n",
    "reversed_cat = {'50': 1, '40': 2, '30': 3,\n",
    "                '20': 4, '10': 5, 'MC': 6, '20k': 7, None: 8}\n",
    "df = df.replace({'categorie': reversed_cat})\n",
    "\n",
    "# Split train / test\n",
    "print(\"Spliting in train and test...\")\n",
    "train = df[0:int(len(df)*0.8)]\n",
    "print(\"Taille du dataset de train : \" + str(len(train)))\n",
    "test = df[int(len(df)*0.8)+1:]\n",
    "print(\"Taille du dataset de test : \" + str(len(test)))\n",
    "train_labels = train['categorie']\n",
    "trainSL = train.drop(columns=['categorie'])\n",
    "train_data = trainSL\n",
    "test_labels = test['categorie']\n",
    "test = test.drop(columns=['categorie'])\n",
    "test_data = test\n",
    "test_pool = Pool(test_data,\n",
    "                 test_labels,\n",
    "                 cat_features=['titre', 'artiste'])"
   ]
  },
  {
   "cell_type": "markdown",
   "metadata": {},
   "source": [
    "## II. Sans rééquilibrage"
   ]
  },
  {
   "cell_type": "markdown",
   "metadata": {},
   "source": [
    "Let see what happens without rebalancing the dataset"
   ]
  },
  {
   "cell_type": "code",
   "execution_count": 2,
   "metadata": {},
   "outputs": [
    {
     "name": "stdout",
     "output_type": "stream",
     "text": [
      "Training the CatBoost model...\n",
      "0:\tlearn: 0.0835630\ttotal: 2.45s\tremaining: 22.1s\n",
      "1:\tlearn: 0.5917520\ttotal: 4.64s\tremaining: 18.6s\n",
      "2:\tlearn: 1.1319395\ttotal: 6.69s\tremaining: 15.6s\n",
      "3:\tlearn: 1.1233489\ttotal: 8.98s\tremaining: 13.5s\n",
      "4:\tlearn: 1.1151886\ttotal: 11.5s\tremaining: 11.5s\n",
      "5:\tlearn: 1.0755618\ttotal: 13.9s\tremaining: 9.25s\n",
      "6:\tlearn: 1.0442403\ttotal: 16.1s\tremaining: 6.92s\n",
      "7:\tlearn: 1.0639025\ttotal: 18.3s\tremaining: 4.58s\n",
      "8:\tlearn: 1.0210985\ttotal: 20.5s\tremaining: 2.27s\n",
      "9:\tlearn: 1.0189583\ttotal: 22.7s\tremaining: 0us\n"
     ]
    },
    {
     "data": {
      "text/plain": [
       "<catboost.core.CatBoostClassifier at 0x1b61b9615c8>"
      ]
     },
     "execution_count": 2,
     "metadata": {},
     "output_type": "execute_result"
    }
   ],
   "source": [
    "# Training model\n",
    "print(\"Training the CatBoost model...\")\n",
    "model = CatBoostClassifier(iterations=10,\n",
    "                           depth=10,\n",
    "                           learning_rate=1,\n",
    "                           loss_function='MultiClass',\n",
    "                           verbose=True)\n",
    "model.fit(train_data, train_labels, cat_features=[\n",
    "          'titre', 'artiste'])"
   ]
  },
  {
   "cell_type": "code",
   "execution_count": 4,
   "metadata": {},
   "outputs": [
    {
     "name": "stdout",
     "output_type": "stream",
     "text": [
      "Predicting on the test set...\n",
      "Confusion matrix :\n"
     ]
    },
    {
     "data": {
      "image/png": "[encoded data removed]",
      "text/plain": [
       "<Figure size 432x288 with 2 Axes>"
      ]
     },
     "metadata": {
      "needs_background": "light"
     },
     "output_type": "display_data"
    }
   ],
   "source": [
    "# Prediction on test set\n",
    "print(\"Predicting on the test set...\")\n",
    "preds_class = model.predict(test_pool)\n",
    "preds_proba = model.predict_proba(test_pool)\n",
    "preds = model.predict_log_proba(test_pool)\n",
    "\n",
    "# Modification du dataset de test\n",
    "test_data[\"pred\"] = preds_class\n",
    "test_data[\"labels\"] = test_labels\n",
    "test_data[[\"1\", \"2\", \"3\", \"4\", \"5\", \"6\", \"7\", \"8\"]] = preds\n",
    "\n",
    "# Confusion matrix\n",
    "print(\"Confusion matrix :\")\n",
    "test_data[\"pred\"] = preds_class\n",
    "test_data[\"labels\"] = test_labels\n",
    "confusionMatrix = skl.confusion_matrix(\n",
    "    test_data['labels'], test_data['pred'])\n",
    "dispCM = skl.ConfusionMatrixDisplay(confusionMatrix)\n",
    "dispCM.plot()\n",
    "plt.show()"
   ]
  },
  {
   "cell_type": "markdown",
   "metadata": {},
   "source": [
    "## III. Metric definition"
   ]
  },
  {
   "cell_type": "markdown",
   "metadata": {},
   "source": [
    "First, what is the most precious information for us to get is about the Mêmes Chansons and te 20k Chansons. We will thus create a metric that only takes into account these two classes. <br/>\n",
    "We want two things : <br/>\n",
    "- We **absolutely** don't want to miss songs, especially MC songs\n",
    "- We don't want to learn too many songs, because, physically, we can revise only 20-30 songs per day\n",
    "\n",
    "For the first requirement, we will consider the precisions on the two classes that we care about. Let $a_{ij}$ be the coefficient at the $i-th$ row and $j-th$ column of the confusion matrix :\n",
    "$$P_5 = \\frac{a_{55}}{\\sum_{j = 0}^7a_{5j}}$$\n",
    "The same expression can be obtained for the 20k songs replacing 5 by 6.\n",
    "Then, since we absolutely don't want to miss MC songs, we can't compute a weighted mean of the two metrics with a higher weight for $P_5$.\n",
    "$$Precision(\\lambda) = \\lambda P_5 + (1-\\lambda) P_6$$\n",
    "We will take $\\lambda = 0.9$\n",
    "\n",
    "For the second requirement, we will do the same work with the recalls on both classes.\n",
    "$$R_5 = \\frac{a_{55}}{\\sum_{i = 0}^7a_{i5}}$$\n",
    "Then,\n",
    "$$Recall(\\mu) = \\mu R_5 + (1-\\mu) R_6$$\n",
    "Let's take $\\mu = 0.5$\n",
    "\n",
    "We then compute a classical $F1-score$ with knowing the precision and the recall of the problem :\n",
    "$$F1 = \\frac{2}{\\frac{1}{Precision(\\lambda)} + \\frac{1}{Recall(\\mu)}}$$\n",
    "\n",
    "### 1. Application for the test case without rebalancing"
   ]
  },
  {
   "cell_type": "code",
   "execution_count": 44,
   "metadata": {},
   "outputs": [
    {
     "name": "stdout",
     "output_type": "stream",
     "text": [
      "P5 = 30.6\n",
      "P6 = 18.7\n",
      "Precision = 29.410000000000004\n",
      "R5 = 0.9\n",
      "R6 = 0.8\n",
      "Recall = 0.8500000000000001\n",
      "F1-score = 1.7\n"
     ]
    }
   ],
   "source": [
    "def precisionOrRecall(metric, c):\n",
    "    res = 0\n",
    "    if metric == \"Precision\":\n",
    "        res = confusionMatrix[c, c]/sum(confusionMatrix[c,])\n",
    "    elif metric == \"Recall\":\n",
    "        res = confusionMatrix[c, c]/sum(confusionMatrix[:,c])\n",
    "    else:\n",
    "        raise(\"metric argument must be either Precision or Recall\")\n",
    "    return round(res * 100, 1)\n",
    "\n",
    "def F1score(p, r):\n",
    "    if p == 0 and r == 0:\n",
    "        return 0\n",
    "    else:\n",
    "        return round(2/(1/p + 1/r), 1)\n",
    "\n",
    "# Calcul de la précision\n",
    "P5 = precisionOrRecall(\"Precision\", 5)\n",
    "print(\"P5 = {0}\".format(P5))\n",
    "P6 = precisionOrRecall(\"Precision\", 6)\n",
    "print(\"P6 = {0}\".format(P6))\n",
    "l = 0.9\n",
    "precision = l*P5 + (1-l)*P6\n",
    "print(\"Precision = {0}\".format(precision))\n",
    "\n",
    "# Calcul du recall\n",
    "R5 = precisionOrRecall(\"Recall\", 5)\n",
    "print(\"R5 = {0}\".format(R5))\n",
    "R6 = precisionOrRecall(\"Recall\", 6)\n",
    "print(\"R6 = {0}\".format(R6))\n",
    "mu = 0.5\n",
    "recall = mu*R5 + (1-mu)*R6\n",
    "print(\"Recall = {0}\".format(recall))\n",
    "\n",
    "# Calcul du F1-score\n",
    "F1 = F1score(precision, recall)\n",
    "print(\"F1-score = {0}\".format(F1))"
   ]
  },
  {
   "cell_type": "markdown",
   "metadata": {},
   "source": [
    "**Conclusion :** Si on n'utilise pas de méthode de rebalancing, les résultats sont pourris"
   ]
  },
  {
   "cell_type": "markdown",
   "metadata": {},
   "source": [
    "## IV. Echantillonage en enlevant des PP\n",
    "\n",
    "La première stratégie consiste, pour chaque émission, à ne pas garder l'ensemble des chansons du dataset qui ne sont pas passées. On en garde seulement une proportion $\\tau$, quitte à faire baisser la taille de l'échantillon.\n",
    "\n",
    "Pour ce faire, on split le dataset entre les chansons qui ne passent pas $PP$ et celles qui passent $P$, puis on concatène $dataset = P + \\tau PP$"
   ]
  },
  {
   "cell_type": "code",
   "execution_count": 5,
   "metadata": {},
   "outputs": [
    {
     "data": {
      "text/html": [
       "<div>\n",
       "<style scoped>\n",
       "    .dataframe tbody tr th:only-of-type {\n",
       "        vertical-align: middle;\n",
       "    }\n",
       "\n",
       "    .dataframe tbody tr th {\n",
       "        vertical-align: top;\n",
       "    }\n",
       "\n",
       "    .dataframe thead th {\n",
       "        text-align: right;\n",
       "    }\n",
       "</style>\n",
       "<table border=\"1\" class=\"dataframe\">\n",
       "  <thead>\n",
       "    <tr style=\"text-align: right;\">\n",
       "      <th></th>\n",
       "      <th>titre</th>\n",
       "      <th>année</th>\n",
       "      <th>decennie</th>\n",
       "      <th>artiste</th>\n",
       "      <th>clusterid</th>\n",
       "      <th>deltadate</th>\n",
       "      <th>deltadatemc</th>\n",
       "      <th>deltadatemcma</th>\n",
       "      <th>deltadate20k</th>\n",
       "      <th>deltadate20kma</th>\n",
       "      <th>tauxchoisies</th>\n",
       "      <th>categorie</th>\n",
       "    </tr>\n",
       "  </thead>\n",
       "  <tbody>\n",
       "    <tr>\n",
       "      <th>84598</th>\n",
       "      <td>Il me dit que je suis belle</td>\n",
       "      <td>1993</td>\n",
       "      <td>1990</td>\n",
       "      <td>Kaas Patricia</td>\n",
       "      <td>1</td>\n",
       "      <td>154.0</td>\n",
       "      <td>NaN</td>\n",
       "      <td>102.0</td>\n",
       "      <td>NaN</td>\n",
       "      <td>219.0</td>\n",
       "      <td>0.666667</td>\n",
       "      <td>8</td>\n",
       "    </tr>\n",
       "    <tr>\n",
       "      <th>35596</th>\n",
       "      <td>J'entends siffler le train</td>\n",
       "      <td>1962</td>\n",
       "      <td>1960</td>\n",
       "      <td>Anthony Richard</td>\n",
       "      <td>3</td>\n",
       "      <td>44.0</td>\n",
       "      <td>NaN</td>\n",
       "      <td>NaN</td>\n",
       "      <td>NaN</td>\n",
       "      <td>55.0</td>\n",
       "      <td>0.500000</td>\n",
       "      <td>8</td>\n",
       "    </tr>\n",
       "    <tr>\n",
       "      <th>179948</th>\n",
       "      <td>C'est ma terre</td>\n",
       "      <td>2007</td>\n",
       "      <td>2000</td>\n",
       "      <td>Maé Christophe</td>\n",
       "      <td>3</td>\n",
       "      <td>143.0</td>\n",
       "      <td>NaN</td>\n",
       "      <td>46.0</td>\n",
       "      <td>143.0</td>\n",
       "      <td>40.0</td>\n",
       "      <td>1.000000</td>\n",
       "      <td>8</td>\n",
       "    </tr>\n",
       "    <tr>\n",
       "      <th>37226</th>\n",
       "      <td>Capitaine abandonné</td>\n",
       "      <td>1986</td>\n",
       "      <td>1980</td>\n",
       "      <td>Gold</td>\n",
       "      <td>0</td>\n",
       "      <td>93.0</td>\n",
       "      <td>50.0</td>\n",
       "      <td>50.0</td>\n",
       "      <td>NaN</td>\n",
       "      <td>61.0</td>\n",
       "      <td>0.600000</td>\n",
       "      <td>4</td>\n",
       "    </tr>\n",
       "    <tr>\n",
       "      <th>142513</th>\n",
       "      <td>On a tous le droit</td>\n",
       "      <td>2000</td>\n",
       "      <td>2000</td>\n",
       "      <td>Foly Liane</td>\n",
       "      <td>2</td>\n",
       "      <td>108.0</td>\n",
       "      <td>NaN</td>\n",
       "      <td>NaN</td>\n",
       "      <td>NaN</td>\n",
       "      <td>77.0</td>\n",
       "      <td>0.500000</td>\n",
       "      <td>7</td>\n",
       "    </tr>\n",
       "  </tbody>\n",
       "</table>\n",
       "</div>"
      ],
      "text/plain": [
       "                              titre  année  decennie          artiste  \\\n",
       "84598   Il me dit que je suis belle   1993      1990    Kaas Patricia   \n",
       "35596    J'entends siffler le train   1962      1960  Anthony Richard   \n",
       "179948               C'est ma terre   2007      2000   Maé Christophe   \n",
       "37226           Capitaine abandonné   1986      1980             Gold   \n",
       "142513           On a tous le droit   2000      2000       Foly Liane   \n",
       "\n",
       "        clusterid  deltadate  deltadatemc  deltadatemcma  deltadate20k  \\\n",
       "84598           1      154.0          NaN          102.0           NaN   \n",
       "35596           3       44.0          NaN            NaN           NaN   \n",
       "179948          3      143.0          NaN           46.0         143.0   \n",
       "37226           0       93.0         50.0           50.0           NaN   \n",
       "142513          2      108.0          NaN            NaN           NaN   \n",
       "\n",
       "        deltadate20kma  tauxchoisies  categorie  \n",
       "84598            219.0      0.666667          8  \n",
       "35596             55.0      0.500000          8  \n",
       "179948            40.0      1.000000          8  \n",
       "37226             61.0      0.600000          4  \n",
       "142513            77.0      0.500000          7  "
      ]
     },
     "execution_count": 5,
     "metadata": {},
     "output_type": "execute_result"
    }
   ],
   "source": [
    "def buildDataset(df, tau):\n",
    "    P = df[df.categorie != 8]\n",
    "    PP = df[df.categorie == 8]\n",
    "    tauPP = PP.sample(frac = tau)\n",
    "    res = pd.concat([P, tauPP])\n",
    "    return res\n",
    "\n",
    "exempleBuildDataset = buildDataset(train, 0.01)\n",
    "exempleBuildDataset.sample(5)"
   ]
  },
  {
   "cell_type": "markdown",
   "metadata": {},
   "source": [
    "### 1. Petit test avec $\\tau = 1\\%$"
   ]
  },
  {
   "cell_type": "markdown",
   "metadata": {},
   "source": [
    "Ici on a pris $\\tau = 1\\%$, entrainons le modèle et calculons le F1-score"
   ]
  },
  {
   "cell_type": "code",
   "execution_count": 37,
   "metadata": {},
   "outputs": [
    {
     "name": "stdout",
     "output_type": "stream",
     "text": [
      "Training the CatBoost model...\n",
      "0:\tlearn: 1.5654648\ttotal: 217ms\tremaining: 1.95s\n",
      "1:\tlearn: 1.4292185\ttotal: 438ms\tremaining: 1.75s\n",
      "2:\tlearn: 1.3366872\ttotal: 654ms\tremaining: 1.52s\n",
      "3:\tlearn: 1.2811790\ttotal: 940ms\tremaining: 1.41s\n",
      "4:\tlearn: 1.1906658\ttotal: 1.23s\tremaining: 1.23s\n",
      "5:\tlearn: 1.1291866\ttotal: 1.51s\tremaining: 1s\n",
      "6:\tlearn: 1.0722350\ttotal: 1.8s\tremaining: 771ms\n",
      "7:\tlearn: 0.9936019\ttotal: 2.02s\tremaining: 504ms\n",
      "8:\tlearn: 0.9536021\ttotal: 2.22s\tremaining: 247ms\n",
      "9:\tlearn: 0.8924762\ttotal: 2.43s\tremaining: 0us\n",
      "Predicting on the test set...\n",
      "Confusion matrix :\n"
     ]
    },
    {
     "data": {
      "image/png": "[encoded data removed]",
      "text/plain": [
       "<Figure size 432x288 with 2 Axes>"
      ]
     },
     "metadata": {
      "needs_background": "light"
     },
     "output_type": "display_data"
    }
   ],
   "source": [
    "# Split train / test\n",
    "train_labels = exempleBuildDataset['categorie']\n",
    "trainSL = exempleBuildDataset.drop(columns=['categorie'])\n",
    "train_data = trainSL\n",
    "\n",
    "# Training model\n",
    "model = util.trainModel(train_data, test_data, ['titre', 'artiste'])\n",
    "\n",
    "# Prediction on test set\n",
    "print(\"Predicting on the test set...\")\n",
    "preds_class = model.predict(test_pool)\n",
    "preds_proba = model.predict_proba(test_pool)\n",
    "preds = model.predict_log_proba(test_pool)\n",
    "\n",
    "# Modification du dataset de test\n",
    "test_data[\"pred\"] = preds_class\n",
    "test_data[\"labels\"] = test_labels\n",
    "test_data[[\"1\", \"2\", \"3\", \"4\", \"5\", \"6\", \"7\", \"8\"]] = preds\n",
    "\n",
    "# Confusion matrix\n",
    "print(\"Confusion matrix :\")\n",
    "test_data[\"pred\"] = preds_class\n",
    "test_data[\"labels\"] = test_labels\n",
    "confusionMatrix = skl.confusion_matrix(\n",
    "    test_data['labels'], test_data['pred'])\n",
    "dispCM = skl.ConfusionMatrixDisplay(confusionMatrix)\n",
    "dispCM.plot()\n",
    "plt.show()"
   ]
  },
  {
   "cell_type": "code",
   "execution_count": 45,
   "metadata": {},
   "outputs": [
    {
     "name": "stdout",
     "output_type": "stream",
     "text": [
      "P5 = 30.6\n",
      "P6 = 18.7\n",
      "Precision = 29.4\n",
      "R5 = 0.9\n",
      "R6 = 0.8\n",
      "Recall = 0.8\n",
      "F1-score = 1.6\n"
     ]
    }
   ],
   "source": [
    "# Calcul de la précision\n",
    "P5 = precisionOrRecall(\"Precision\", 5)\n",
    "print(\"P5 = {0}\".format(P5))\n",
    "P6 = precisionOrRecall(\"Precision\", 6)\n",
    "print(\"P6 = {0}\".format(P6))\n",
    "l = 0.9\n",
    "precision = round(l*P5 + (1-l)*P6, 1)\n",
    "print(\"Precision = {0}\".format(precision))\n",
    "\n",
    "# Calcul du recall\n",
    "R5 = precisionOrRecall(\"Recall\", 5)\n",
    "print(\"R5 = {0}\".format(R5))\n",
    "R6 = precisionOrRecall(\"Recall\", 6)\n",
    "print(\"R6 = {0}\".format(R6))\n",
    "mu = 0.5\n",
    "recall = round(mu*R5 + (1-mu)*R6, 1)\n",
    "print(\"Recall = {0}\".format(recall))\n",
    "\n",
    "# Calcul du F1-score\n",
    "F1 = F1score(precision, recall)\n",
    "print(\"F1-score = {0}\".format(F1))"
   ]
  },
  {
   "cell_type": "markdown",
   "metadata": {},
   "source": [
    "### 2. Recherche de la proportion $\\tau$ optimale"
   ]
  },
  {
   "cell_type": "markdown",
   "metadata": {},
   "source": [
    "On va itérer sur les différentes valeurs de $\\tau$ suivantes : $\\{0.001, 0.003, 0.01, 0.03, 0.1, 0.3, 1\\}$ et regarder l'évolution des trois métriques suivantes : précision, recall et F1-score."
   ]
  },
  {
   "cell_type": "code",
   "execution_count": 21,
   "metadata": {},
   "outputs": [
    {
     "name": "stdout",
     "output_type": "stream",
     "text": [
      "0.001\n",
      "Training the CatBoost model...\n",
      "Predicting on the test set...\n",
      "Confusion matrix :\n",
      "P5 = 30.6\n",
      "P6 = 47.3\n",
      "Precision = 32.3\n",
      "R5 = 0.7\n",
      "R6 = 0.4\n",
      "Recall = 0.6\n",
      "F1-score = 1.2\n",
      "\n",
      "0.003\n",
      "Training the CatBoost model...\n",
      "Predicting on the test set...\n",
      "Confusion matrix :\n",
      "P5 = 28.6\n",
      "P6 = 41.8\n",
      "Precision = 29.9\n",
      "R5 = 0.6\n",
      "R6 = 0.4\n",
      "Recall = 0.5\n",
      "F1-score = 1.0\n",
      "\n",
      "0.01\n",
      "Training the CatBoost model...\n",
      "Predicting on the test set...\n",
      "Confusion matrix :\n",
      "P5 = 12.2\n",
      "P6 = 17.6\n",
      "Precision = 12.7\n",
      "R5 = 0.7\n",
      "R6 = 0.8\n",
      "Recall = 0.8\n",
      "F1-score = 1.5\n",
      "\n",
      "0.03\n",
      "Training the CatBoost model...\n",
      "Predicting on the test set...\n",
      "Confusion matrix :\n",
      "P5 = 14.3\n",
      "P6 = 3.3\n",
      "Precision = 13.2\n",
      "R5 = 1.1\n",
      "R6 = 0.3\n",
      "Recall = 0.7\n",
      "F1-score = 1.3\n",
      "\n",
      "0.1\n",
      "Training the CatBoost model...\n",
      "Predicting on the test set...\n",
      "Confusion matrix :\n",
      "P5 = 6.1\n",
      "P6 = 2.2\n",
      "Precision = 5.7\n",
      "R5 = 1.0\n",
      "R6 = 0.6\n",
      "Recall = 0.8\n",
      "F1-score = 1.4\n",
      "\n",
      "0.3\n",
      "Training the CatBoost model...\n",
      "Predicting on the test set...\n",
      "Confusion matrix :\n",
      "P5 = 0.0\n",
      "P6 = 0.0\n",
      "Precision = 0.0\n",
      "R5 = 0.0\n",
      "R6 = 0.0\n",
      "Recall = 0.0\n",
      "F1-score = 0\n",
      "\n"
     ]
    }
   ],
   "source": [
    "# Définition des listes de stockage des résultats\n",
    "def experimentTau():\n",
    "    taus = [0.001, 0.003, 0.01, 0.03, 0.1, 0.3]\n",
    "    precisions, recalls, F1scores = [], [], []\n",
    "\n",
    "    for tau in taus:\n",
    "\n",
    "        print(tau)    \n",
    "        # Fabrication du dataset de train\n",
    "        dataset = buildDataset(train, tau)\n",
    "\n",
    "        # Split train / test\n",
    "        train_labels = dataset['categorie']\n",
    "        trainSL = dataset.drop(columns=['categorie'])\n",
    "        train_data = trainSL\n",
    "\n",
    "        # Training model\n",
    "        model = util.trainModel(train_data, train_labels, ['titre', 'artiste'])\n",
    "\n",
    "        # Confusion matrix\n",
    "        confusionMatrix = util.confusionMatrixCalculation(model, test_pool, test_data, test_labels)\n",
    "\n",
    "        # Calcul des métriques\n",
    "        metriques = util.metricCalculation(confusionMatrix)\n",
    "        precisions.append(metriques[\"Precision\"])\n",
    "        recalls.append(metriques[\"Recall\"])\n",
    "        F1scores.append(metriques[\"F1score\"])\n",
    "        print()"
   ]
  },
  {
   "cell_type": "code",
   "execution_count": 22,
   "metadata": {},
   "outputs": [
    {
     "data": {
      "image/png": "[encoded data removed]",
      "text/plain": [
       "<Figure size 2160x1440 with 3 Axes>"
      ]
     },
     "metadata": {
      "needs_background": "light"
     },
     "output_type": "display_data"
    }
   ],
   "source": [
    "fig, (ax1, ax2, ax3) = plt.subplots(3, 1)\n",
    "fig.set_size_inches(30, 20)\n",
    "ax1.set_xscale(\"log\")\n",
    "ax2.set_xscale(\"log\")\n",
    "ax3.set_xscale(\"log\")\n",
    "ax1.plot(taus, precisions)\n",
    "ax1.set_title(\"Precision\")\n",
    "ax2.plot(taus, recalls)\n",
    "ax2.set_title(\"Recall\")\n",
    "ax3.plot(taus, F1scores)\n",
    "ax3.set_title(\"F1-score\")\n",
    "plt.show()"
   ]
  }
 ],
 "metadata": {
  "kernelspec": {
   "display_name": "Python 3.7.8 64-bit",
   "language": "python",
   "name": "python3"
  },
  "language_info": {
   "codemirror_mode": {
    "name": "ipython",
    "version": 3
   },
   "file_extension": ".py",
   "mimetype": "text/x-python",
   "name": "python",
   "nbconvert_exporter": "python",
   "pygments_lexer": "ipython3",
   "version": "3.7.8"
  },
  "orig_nbformat": 4,
  "vscode": {
   "interpreter": {
    "hash": "5109d816b82be14675a6b11f8e0f0d2e80f029176ed3710d54e125caa8520dfd"
   }
  }
 },
 "nbformat": 4,
 "nbformat_minor": 2
}
