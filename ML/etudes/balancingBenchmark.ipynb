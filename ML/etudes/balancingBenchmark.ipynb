{
 "cells": [
  {
   "cell_type": "markdown",
   "metadata": {},
   "source": [
    "# Rebalancing Benchmark for Catboost MultiClass Classification\n",
    "\n",
    "Since only 22 songs are proposed each day on the 2k dataset, the class are unbalanced with the following proportions : <br/>\n",
    "- 50 : 0,18%\n",
    "- 40 : 0,18%\n",
    "- 30 : 0,18%\n",
    "- 20 : <0,18%\n",
    "- 10 : <0,18%\n",
    "- MC : 0,09%\n",
    "- 20k : 0,18%\n",
    "- PP : 99,02%\n",
    "\n",
    "Hence, we clearly have an unbalanced dataset and we need to address this problem"
   ]
  },
  {
   "cell_type": "markdown",
   "metadata": {},
   "source": [
    "## I. Dataset loading"
   ]
  },
  {
   "cell_type": "code",
   "execution_count": 1,
   "metadata": {},
   "outputs": [],
   "source": [
    "import pandas as pd\n",
    "from catboost import CatBoostClassifier, Pool\n",
    "import sklearn.metrics as skl\n",
    "import matplotlib.pyplot as plt\n",
    "import os\n",
    "import shutil\n",
    "import numpy as np\n",
    "\n",
    "homePath = \"C:/Users/thoma/OneDrive - CentraleSupelec/NOPLP/code/ML\"\n",
    "os.chdir(homePath)\n",
    "\n",
    "# Import du fichier util\n",
    "shutil.copy(homePath + \"/util.py\", homePath + \"/etudes/\")\n",
    "import util"
   ]
  },
  {
   "cell_type": "code",
   "execution_count": 6,
   "metadata": {},
   "outputs": [
    {
     "name": "stdout",
     "output_type": "stream",
     "text": [
      "Dataset loading...\n",
      "Data cleaning...\n",
      "Spliting in train and test...\n",
      "Taille du dataset de train : 480160\n",
      "Taille du dataset de test : 120040\n"
     ]
    }
   ],
   "source": [
    "# Chargement du dataset\n",
    "print(\"Dataset loading...\")\n",
    "df = pd.read_csv(\"data/lossBenchmarkData.csv\", sep=\";\")\n",
    "\n",
    "# Data Cleaning\n",
    "print(\"Data cleaning...\")\n",
    "df = df.drop(columns=['Unnamed: 0', 'id', 'Chanson_id'])\n",
    "reversed_cat = {'50': 1, '40': 2, '30': 3,\n",
    "                '20': 4, '10': 5, 'MC': 6, '20k': 7, None: 8}\n",
    "df = df.replace({'categorie': reversed_cat})\n",
    "\n",
    "# Split train / test\n",
    "print(\"Spliting in train and test...\")\n",
    "train = df[0:int(len(df)*0.8)]\n",
    "print(\"Taille du dataset de train : \" + str(len(train)))\n",
    "test = df[int(len(df)*0.8)+1:]\n",
    "print(\"Taille du dataset de test : \" + str(len(test)))\n",
    "train_labels = train['categorie']\n",
    "trainSL = train.drop(columns=['categorie'])\n",
    "train_data = trainSL\n",
    "test_labels = test['categorie']\n",
    "test = test.drop(columns=['categorie'])\n",
    "test_data = test\n",
    "test_pool = Pool(test_data,\n",
    "                 test_labels,\n",
    "                 cat_features=['titre', 'artiste', 'clusterid'])"
   ]
  },
  {
   "cell_type": "markdown",
   "metadata": {},
   "source": [
    "## II. Sans rééquilibrage"
   ]
  },
  {
   "cell_type": "markdown",
   "metadata": {},
   "source": [
    "Let see what happens without rebalancing the dataset"
   ]
  },
  {
   "cell_type": "code",
   "execution_count": 4,
   "metadata": {},
   "outputs": [
    {
     "name": "stdout",
     "output_type": "stream",
     "text": [
      "Training the CatBoost model...\n",
      "0:\tlearn: 0.2000040\ttotal: 5.19s\tremaining: 46.7s\n",
      "1:\tlearn: 0.1318595\ttotal: 10.3s\tremaining: 41.3s\n",
      "2:\tlearn: 0.1100145\ttotal: 15.7s\tremaining: 36.5s\n",
      "3:\tlearn: 0.1009747\ttotal: 21.6s\tremaining: 32.4s\n",
      "4:\tlearn: 0.0964956\ttotal: 27.3s\tremaining: 27.3s\n",
      "5:\tlearn: 0.0934921\ttotal: 33s\tremaining: 22s\n",
      "6:\tlearn: 0.0915826\ttotal: 38.1s\tremaining: 16.3s\n",
      "7:\tlearn: 0.0875086\ttotal: 43.5s\tremaining: 10.9s\n",
      "8:\tlearn: 0.0851794\ttotal: 48.8s\tremaining: 5.43s\n",
      "9:\tlearn: 0.0826259\ttotal: 54.1s\tremaining: 0us\n"
     ]
    },
    {
     "data": {
      "text/plain": [
       "<catboost.core.CatBoostClassifier at 0x204764f9508>"
      ]
     },
     "execution_count": 4,
     "metadata": {},
     "output_type": "execute_result"
    }
   ],
   "source": [
    "# Training model\n",
    "print(\"Training the CatBoost model...\")\n",
    "model = CatBoostClassifier(iterations=10,\n",
    "                           depth=10,\n",
    "                           learning_rate=1,\n",
    "                           loss_function='MultiClassOneVsAll',\n",
    "                           class_weights=[1, 0, 0.1, 0.5, 0.1, 5, 5, 0.1],\n",
    "                           verbose=True)\n",
    "model.fit(train_data, train_labels, cat_features=[\n",
    "          'titre', 'artiste', 'clusterid'])"
   ]
  },
  {
   "cell_type": "code",
   "execution_count": 5,
   "metadata": {},
   "outputs": [
    {
     "name": "stdout",
     "output_type": "stream",
     "text": [
      "Predicting on the test set...\n",
      "Confusion matrix :\n"
     ]
    },
    {
     "data": {
      "image/png": "[encoded data removed]",
      "text/plain": [
       "<Figure size 432x288 with 2 Axes>"
      ]
     },
     "metadata": {
      "needs_background": "light"
     },
     "output_type": "display_data"
    }
   ],
   "source": [
    "# Prediction on test set\n",
    "print(\"Predicting on the test set...\")\n",
    "preds_class = model.predict(test_pool)\n",
    "preds_proba = model.predict_proba(test_pool)\n",
    "preds = model.predict_log_proba(test_pool)\n",
    "\n",
    "# Modification du dataset de test\n",
    "test_data[\"pred\"] = preds_class\n",
    "test_data[\"labels\"] = test_labels\n",
    "test_data[[\"1\", \"2\", \"3\", \"4\", \"5\", \"6\", \"7\", \"8\"]] = preds\n",
    "\n",
    "# Confusion matrix\n",
    "print(\"Confusion matrix :\")\n",
    "test_data[\"pred\"] = preds_class\n",
    "test_data[\"labels\"] = test_labels\n",
    "confusionMatrix = skl.confusion_matrix(\n",
    "    test_data['labels'], test_data['pred'])\n",
    "dispCM = skl.ConfusionMatrixDisplay(confusionMatrix)\n",
    "dispCM.plot()\n",
    "plt.show()"
   ]
  },
  {
   "cell_type": "markdown",
   "metadata": {},
   "source": [
    "## III. Metric definition"
   ]
  },
  {
   "cell_type": "markdown",
   "metadata": {},
   "source": [
    "First, what is the most precious information for us to get is about the Mêmes Chansons and te 20k Chansons. We will thus create a metric that only takes into account these two classes. <br/>\n",
    "We want two things : <br/>\n",
    "- We **absolutely** don't want to miss songs, especially MC songs\n",
    "- We don't want to learn too many songs, because, physically, we can revise only 20-30 songs per day\n",
    "\n",
    "For the first requirement, we will consider the precisions on the two classes that we care about. Let $a_{ij}$ be the coefficient at the $i-th$ row and $j-th$ column of the confusion matrix :\n",
    "$$P_5 = \\frac{a_{55}}{\\sum_{j = 0}^7a_{5j}}$$\n",
    "The same expression can be obtained for the 20k songs replacing 5 by 6.\n",
    "Then, since we absolutely don't want to miss MC songs, we can't compute a weighted mean of the two metrics with a higher weight for $P_5$.\n",
    "$$Precision(\\lambda) = \\lambda P_5 + (1-\\lambda) P_6$$\n",
    "We will take $\\lambda = 0.9$\n",
    "\n",
    "For the second requirement, we will do the same work with the recalls on both classes.\n",
    "$$R_5 = \\frac{a_{55}}{\\sum_{i = 0}^7a_{i5}}$$\n",
    "Then,\n",
    "$$Recall(\\mu) = \\mu R_5 + (1-\\mu) R_6$$\n",
    "Let's take $\\mu = 0.5$\n",
    "\n",
    "We then compute a classical $F1-score$ with knowing the precision and the recall of the problem :\n",
    "$$F1 = \\frac{2}{\\frac{1}{Precision(\\lambda)} + \\frac{1}{Recall(\\mu)}}$$\n",
    "\n",
    "### 1. Application for the test case without rebalancing"
   ]
  },
  {
   "cell_type": "code",
   "execution_count": 6,
   "metadata": {},
   "outputs": [
    {
     "name": "stdout",
     "output_type": "stream",
     "text": [
      "P5 = 1.7\n",
      "P6 = 0.9\n",
      "Precision = 1.62\n",
      "R5 = 0.3\n",
      "R6 = 0.3\n",
      "Recall = 0.3\n",
      "F1-score = 0.5\n"
     ]
    }
   ],
   "source": [
    "def precisionOrRecall(metric, c):\n",
    "    res = 0\n",
    "    if metric == \"Precision\":\n",
    "        res = confusionMatrix[c, c]/sum(confusionMatrix[c,])\n",
    "    elif metric == \"Recall\":\n",
    "        res = confusionMatrix[c, c]/sum(confusionMatrix[:,c])\n",
    "    else:\n",
    "        raise(\"metric argument must be either Precision or Recall\")\n",
    "    return round(res * 100, 1)\n",
    "\n",
    "def F1score(p, r):\n",
    "    if p == 0 and r == 0:\n",
    "        return 0\n",
    "    else:\n",
    "        return round(2/(1/p + 1/r), 1)\n",
    "\n",
    "# Calcul de la précision\n",
    "P5 = precisionOrRecall(\"Precision\", 5)\n",
    "print(\"P5 = {0}\".format(P5))\n",
    "P6 = precisionOrRecall(\"Precision\", 6)\n",
    "print(\"P6 = {0}\".format(P6))\n",
    "l = 0.9\n",
    "precision = l*P5 + (1-l)*P6\n",
    "print(\"Precision = {0}\".format(precision))\n",
    "\n",
    "# Calcul du recall\n",
    "R5 = precisionOrRecall(\"Recall\", 5)\n",
    "print(\"R5 = {0}\".format(R5))\n",
    "R6 = precisionOrRecall(\"Recall\", 6)\n",
    "print(\"R6 = {0}\".format(R6))\n",
    "mu = 0.5\n",
    "recall = mu*R5 + (1-mu)*R6\n",
    "print(\"Recall = {0}\".format(recall))\n",
    "\n",
    "# Calcul du F1-score\n",
    "F1 = F1score(precision, recall)\n",
    "print(\"F1-score = {0}\".format(F1))"
   ]
  },
  {
   "cell_type": "markdown",
   "metadata": {},
   "source": [
    "**Conclusion :** Si on n'utilise pas de méthode de rebalancing, les résultats sont pourris"
   ]
  },
  {
   "cell_type": "markdown",
   "metadata": {},
   "source": [
    "## IV. Echantillonage en enlevant des PP\n",
    "\n",
    "La première stratégie consiste, pour chaque émission, à ne pas garder l'ensemble des chansons du dataset qui ne sont pas passées. On en garde seulement une proportion $\\tau$, quitte à faire baisser la taille de l'échantillon.\n",
    "\n",
    "Pour ce faire, on split le dataset entre les chansons qui ne passent pas $PP$ et celles qui passent $P$, puis on concatène $dataset = P + \\tau PP$"
   ]
  },
  {
   "cell_type": "code",
   "execution_count": 7,
   "metadata": {},
   "outputs": [
    {
     "data": {
      "text/html": [
       "<div>\n",
       "<style scoped>\n",
       "    .dataframe tbody tr th:only-of-type {\n",
       "        vertical-align: middle;\n",
       "    }\n",
       "\n",
       "    .dataframe tbody tr th {\n",
       "        vertical-align: top;\n",
       "    }\n",
       "\n",
       "    .dataframe thead th {\n",
       "        text-align: right;\n",
       "    }\n",
       "</style>\n",
       "<table border=\"1\" class=\"dataframe\">\n",
       "  <thead>\n",
       "    <tr style=\"text-align: right;\">\n",
       "      <th></th>\n",
       "      <th>titre</th>\n",
       "      <th>année</th>\n",
       "      <th>decennie</th>\n",
       "      <th>artiste</th>\n",
       "      <th>clusterid</th>\n",
       "      <th>deltadate</th>\n",
       "      <th>deltadatemc</th>\n",
       "      <th>deltadatemcma</th>\n",
       "      <th>deltadate20k</th>\n",
       "      <th>deltadate20kma</th>\n",
       "      <th>tauxchoisies</th>\n",
       "      <th>categorie</th>\n",
       "    </tr>\n",
       "  </thead>\n",
       "  <tbody>\n",
       "    <tr>\n",
       "      <th>430520</th>\n",
       "      <td>Les ricains</td>\n",
       "      <td>1967</td>\n",
       "      <td>1960</td>\n",
       "      <td>Sardou Michel</td>\n",
       "      <td>1</td>\n",
       "      <td>223.0</td>\n",
       "      <td>NaN</td>\n",
       "      <td>41.0</td>\n",
       "      <td>NaN</td>\n",
       "      <td>33.0</td>\n",
       "      <td>0.000000</td>\n",
       "      <td>8</td>\n",
       "    </tr>\n",
       "    <tr>\n",
       "      <th>140150</th>\n",
       "      <td>Pile ou face</td>\n",
       "      <td>1987</td>\n",
       "      <td>1980</td>\n",
       "      <td>Charby Corynne</td>\n",
       "      <td>3</td>\n",
       "      <td>212.0</td>\n",
       "      <td>NaN</td>\n",
       "      <td>NaN</td>\n",
       "      <td>NaN</td>\n",
       "      <td>NaN</td>\n",
       "      <td>0.000000</td>\n",
       "      <td>8</td>\n",
       "    </tr>\n",
       "    <tr>\n",
       "      <th>135696</th>\n",
       "      <td>On va s'aimer</td>\n",
       "      <td>1983</td>\n",
       "      <td>1980</td>\n",
       "      <td>Montagné Gilbert</td>\n",
       "      <td>7</td>\n",
       "      <td>68.0</td>\n",
       "      <td>104.0</td>\n",
       "      <td>33.0</td>\n",
       "      <td>NaN</td>\n",
       "      <td>49.0</td>\n",
       "      <td>1.000000</td>\n",
       "      <td>8</td>\n",
       "    </tr>\n",
       "    <tr>\n",
       "      <th>13021</th>\n",
       "      <td>Chanson populaire</td>\n",
       "      <td>1973</td>\n",
       "      <td>1970</td>\n",
       "      <td>François Claude</td>\n",
       "      <td>9</td>\n",
       "      <td>133.0</td>\n",
       "      <td>198.0</td>\n",
       "      <td>38.0</td>\n",
       "      <td>NaN</td>\n",
       "      <td>74.0</td>\n",
       "      <td>1.000000</td>\n",
       "      <td>8</td>\n",
       "    </tr>\n",
       "    <tr>\n",
       "      <th>414094</th>\n",
       "      <td>Coups et blessures</td>\n",
       "      <td>2012</td>\n",
       "      <td>2010</td>\n",
       "      <td>BB Brunes</td>\n",
       "      <td>3</td>\n",
       "      <td>71.0</td>\n",
       "      <td>NaN</td>\n",
       "      <td>76.0</td>\n",
       "      <td>NaN</td>\n",
       "      <td>368.0</td>\n",
       "      <td>0.777778</td>\n",
       "      <td>8</td>\n",
       "    </tr>\n",
       "  </tbody>\n",
       "</table>\n",
       "</div>"
      ],
      "text/plain": [
       "                     titre  année  decennie           artiste  clusterid  \\\n",
       "430520         Les ricains   1967      1960     Sardou Michel          1   \n",
       "140150        Pile ou face   1987      1980    Charby Corynne          3   \n",
       "135696       On va s'aimer   1983      1980  Montagné Gilbert          7   \n",
       "13021    Chanson populaire   1973      1970   François Claude          9   \n",
       "414094  Coups et blessures   2012      2010         BB Brunes          3   \n",
       "\n",
       "        deltadate  deltadatemc  deltadatemcma  deltadate20k  deltadate20kma  \\\n",
       "430520      223.0          NaN           41.0           NaN            33.0   \n",
       "140150      212.0          NaN            NaN           NaN             NaN   \n",
       "135696       68.0        104.0           33.0           NaN            49.0   \n",
       "13021       133.0        198.0           38.0           NaN            74.0   \n",
       "414094       71.0          NaN           76.0           NaN           368.0   \n",
       "\n",
       "        tauxchoisies  categorie  \n",
       "430520      0.000000          8  \n",
       "140150      0.000000          8  \n",
       "135696      1.000000          8  \n",
       "13021       1.000000          8  \n",
       "414094      0.777778          8  "
      ]
     },
     "execution_count": 7,
     "metadata": {},
     "output_type": "execute_result"
    }
   ],
   "source": [
    "def buildDataset(df, tau):\n",
    "    P = df[df.categorie != 8]\n",
    "    PP = df[df.categorie == 8]\n",
    "    tauPP = PP.sample(frac = tau)\n",
    "    res = pd.concat([P, tauPP])\n",
    "    return res\n",
    "\n",
    "exempleBuildDataset = buildDataset(train, 0.01)\n",
    "exempleBuildDataset.sample(5)"
   ]
  },
  {
   "cell_type": "markdown",
   "metadata": {},
   "source": [
    "### 1. Petit test avec $\\tau = 1\\%$"
   ]
  },
  {
   "cell_type": "markdown",
   "metadata": {},
   "source": [
    "Ici on a pris $\\tau = 1\\%$, entrainons le modèle et calculons le F1-score"
   ]
  },
  {
   "cell_type": "code",
   "execution_count": 13,
   "metadata": {},
   "outputs": [
    {
     "name": "stdout",
     "output_type": "stream",
     "text": [
      "Training the CatBoost model...\n",
      "Predicting on the test set...\n",
      "Confusion matrix :\n"
     ]
    },
    {
     "data": {
      "image/png": "[encoded data removed]",
      "text/plain": [
       "<Figure size 432x288 with 2 Axes>"
      ]
     },
     "metadata": {
      "needs_background": "light"
     },
     "output_type": "display_data"
    }
   ],
   "source": [
    "# Split train / test\n",
    "train_labels = exempleBuildDataset['categorie']\n",
    "trainSL = exempleBuildDataset.drop(columns=['categorie'])\n",
    "train_data = trainSL\n",
    "\n",
    "# Training model\n",
    "model = util.trainModel(train_data, train_labels, ['titre', 'artiste', 'clusterid'])\n",
    "\n",
    "# Prediction on test set\n",
    "print(\"Predicting on the test set...\")\n",
    "preds_class = model.predict(test_pool)\n",
    "preds_proba = model.predict_proba(test_pool)\n",
    "preds = model.predict_log_proba(test_pool)\n",
    "\n",
    "# Modification du dataset de test\n",
    "test_data[\"pred\"] = preds_class\n",
    "test_data[\"labels\"] = test_labels\n",
    "test_data[[\"1\", \"2\", \"3\", \"4\", \"5\", \"6\", \"7\", \"8\"]] = preds\n",
    "\n",
    "# Confusion matrix\n",
    "print(\"Confusion matrix :\")\n",
    "test_data[\"pred\"] = preds_class\n",
    "test_data[\"labels\"] = test_labels\n",
    "confusionMatrix = skl.confusion_matrix(\n",
    "    test_data['labels'], test_data['pred'])\n",
    "dispCM = skl.ConfusionMatrixDisplay(confusionMatrix)\n",
    "dispCM.plot()\n",
    "plt.show()"
   ]
  },
  {
   "cell_type": "code",
   "execution_count": 14,
   "metadata": {},
   "outputs": [
    {
     "name": "stdout",
     "output_type": "stream",
     "text": [
      "P5 = 24.1\n",
      "P6 = 19.0\n",
      "Precision = 23.6\n",
      "R5 = 0.7\n",
      "R6 = 0.4\n",
      "Recall = 0.6\n",
      "F1-score = 1.2\n"
     ]
    }
   ],
   "source": [
    "# Calcul de la précision\n",
    "P5 = precisionOrRecall(\"Precision\", 5)\n",
    "print(\"P5 = {0}\".format(P5))\n",
    "P6 = precisionOrRecall(\"Precision\", 6)\n",
    "print(\"P6 = {0}\".format(P6))\n",
    "l = 0.9\n",
    "precision = round(l*P5 + (1-l)*P6, 1)\n",
    "print(\"Precision = {0}\".format(precision))\n",
    "\n",
    "# Calcul du recall\n",
    "R5 = precisionOrRecall(\"Recall\", 5)\n",
    "print(\"R5 = {0}\".format(R5))\n",
    "R6 = precisionOrRecall(\"Recall\", 6)\n",
    "print(\"R6 = {0}\".format(R6))\n",
    "mu = 0.5\n",
    "recall = round(mu*R5 + (1-mu)*R6, 1)\n",
    "print(\"Recall = {0}\".format(recall))\n",
    "\n",
    "# Calcul du F1-score\n",
    "F1 = F1score(precision, recall)\n",
    "print(\"F1-score = {0}\".format(F1))"
   ]
  },
  {
   "cell_type": "markdown",
   "metadata": {},
   "source": [
    "### 2. Recherche de la proportion $\\tau$ optimale"
   ]
  },
  {
   "cell_type": "markdown",
   "metadata": {},
   "source": [
    "On va itérer sur les différentes valeurs de $\\tau$ suivantes : $\\{0.001, 0.003, 0.01, 0.03, 0.1, 0.3, 1\\}$ et regarder l'évolution des trois métriques suivantes : précision, recall et F1-score."
   ]
  },
  {
   "cell_type": "code",
   "execution_count": 3,
   "metadata": {},
   "outputs": [],
   "source": [
    "def trainModel(train_data, train_labels, cat_features, class_weight=[1]*8, loss=\"MultiClass\"):\n",
    "    \n",
    "    print(\"Training the CatBoost model...\")\n",
    "    model = CatBoostClassifier(iterations=10,\n",
    "                               depth=10,\n",
    "                               learning_rate=1,\n",
    "                               loss_function=loss,\n",
    "                               class_weights=class_weight,\n",
    "                               verbose=False)\n",
    "    model.fit(train_data, train_labels, cat_features=cat_features)\n",
    "\n",
    "    return model\n",
    "\n",
    "def metricCalculation(confusionMatrix, verbose=False):\n",
    "    \n",
    "    # Calcul de la précision\n",
    "    P5 = util.precisionOrRecall(\"Precision\", 5, confusionMatrix)\n",
    "    P6 = util.precisionOrRecall(\"Precision\", 6, confusionMatrix)\n",
    "    l = 0.9\n",
    "    precision = round(l*P5 + (1-l)*P6, 1)\n",
    "\n",
    "    # Calcul du recall\n",
    "    R5 = util.precisionOrRecall(\"Recall\", 5, confusionMatrix)\n",
    "    R6 = util.precisionOrRecall(\"Recall\", 6, confusionMatrix)\n",
    "    mu = 0.5\n",
    "    recall = round(mu*R5 + (1-mu)*R6, 1)\n",
    "\n",
    "    # Calcul du F1-score\n",
    "    F1 = util.F1score(precision, recall)\n",
    "\n",
    "    # Affichage\n",
    "    if verbose:\n",
    "        print(\"P5 = {0}\".format(P5))\n",
    "        print(\"P6 = {0}\".format(P6))\n",
    "        print(\"Precision = {0}\".format(precision))\n",
    "        print(\"R5 = {0}\".format(R5))\n",
    "        print(\"R6 = {0}\".format(R6))\n",
    "        print(\"Recall = {0}\".format(recall))\n",
    "        print(\"F1-score = {0}\".format(F1))\n",
    "\n",
    "    return {\"Precision\": precision, \"Recall\": recall, \"F1score\": F1}\n"
   ]
  },
  {
   "cell_type": "code",
   "execution_count": 11,
   "metadata": {},
   "outputs": [],
   "source": [
    "taus = [0.001, 0.003, 0.01, 0.03, 0.1, 0.3]\n",
    "def experimentTau(taus):\n",
    "\n",
    "    precisions, recalls, F1scores = [], [], []\n",
    "\n",
    "    for tau in taus:\n",
    "\n",
    "        print(tau)    \n",
    "        # Fabrication du dataset de train\n",
    "        dataset = buildDataset(train, tau)\n",
    "\n",
    "        # Split train / test\n",
    "        train_labels = dataset['categorie']\n",
    "        trainSL = dataset.drop(columns=['categorie'])\n",
    "        train_data = trainSL\n",
    "\n",
    "        # Training model\n",
    "        model = trainModel(train_data, train_labels, cat_features = ['titre', 'artiste', 'clusterid'], class_weight= [0.25, 0.65, 0.325, 0.425, 0.175, 1.9375, 3.875, 0.1], loss = \"MultiClassOneVsAll\")\n",
    "\n",
    "        # Confusion matrix\n",
    "        confusionMatrix = util.confusionMatrixCalculation(model, test_pool, test_data, test_labels)\n",
    "\n",
    "        # Calcul des métriques\n",
    "        metriques = metricCalculation(confusionMatrix)\n",
    "        precisions.append(metriques[\"Precision\"])\n",
    "        recalls.append(metriques[\"Recall\"])\n",
    "        F1scores.append(metriques[\"F1score\"])\n",
    "        \n",
    "    return {\"p\": precisions, \"r\": recalls, \"F\": F1scores}"
   ]
  },
  {
   "cell_type": "code",
   "execution_count": 20,
   "metadata": {},
   "outputs": [],
   "source": [
    "N = 10\n",
    "\n",
    "def experimentMeilleurTau(taus, N):\n",
    "    precisions = np.array([0, 0, 0, 0, 0, 0])\n",
    "    recalls = np.array([0, 0, 0, 0, 0, 0])\n",
    "    F1scores = np.array([0, 0, 0, 0, 0, 0])\n",
    "\n",
    "    for i in range(N):\n",
    "        print(i+1)\n",
    "        resExp = experimentTau(taus)\n",
    "        print(precisions)\n",
    "        print(resExp[\"p\"])\n",
    "        print(np.array(resExp[\"p\"]))\n",
    "        precisions = precisions + np.array(resExp[\"p\"])\n",
    "        recalls = recalls + np.array(resExp[\"r\"])\n",
    "        F1scores = F1scores + np.array(resExp[\"F\"])\n",
    "\n",
    "    precisions = precisions / N\n",
    "    recalls = recalls / N\n",
    "    F1scores = F1scores / N\n",
    "\n",
    "    # Affichage\n",
    "    fig, (ax1, ax2, ax3) = plt.subplots(3, 1)\n",
    "    fig.set_size_inches(30, 20)\n",
    "    ax1.set_xscale(\"log\")\n",
    "    ax2.set_xscale(\"log\")\n",
    "    ax3.set_xscale(\"log\")\n",
    "    ax1.plot(taus, precisions)\n",
    "    ax1.set_title(\"Precision\")\n",
    "    ax2.plot(taus, recalls)\n",
    "    ax2.set_title(\"Recall\")\n",
    "    ax3.plot(taus, F1scores)\n",
    "    ax3.set_title(\"F1-score\")\n",
    "    plt.show()"
   ]
  },
  {
   "cell_type": "code",
   "execution_count": null,
   "metadata": {},
   "outputs": [],
   "source": [
    "experimentMeilleurTau(taus, N)"
   ]
  },
  {
   "cell_type": "markdown",
   "metadata": {},
   "source": [
    "**Conclusion** : Regardons d'un peu plus près ce qui se passe sur la zone entre *3%* et *100%*, toujours en échelle log. En attendant, on utilise la valeur $\\tau = 30\\%$"
   ]
  },
  {
   "cell_type": "markdown",
   "metadata": {},
   "source": [
    "On zoome ensuite sur la zone maximisant le *F1 score* pour trouver le meilleur tau. Pour calculer les **\\tau** que l'on essaie on utilise cette petite fonction qui calcule des intervalles réguliers en échelle log."
   ]
  },
  {
   "cell_type": "code",
   "execution_count": 17,
   "metadata": {},
   "outputs": [
    {
     "data": {
      "text/plain": [
       "array([0.03      , 0.05381885, 0.09654894, 0.17320508, 0.31072325,\n",
       "       0.55742556, 1.        ])"
      ]
     },
     "execution_count": 17,
     "metadata": {},
     "output_type": "execute_result"
    }
   ],
   "source": [
    "from math import log\n",
    "borne_inf = 0.03\n",
    "borne_sup = 1\n",
    "nbCoupures = 5\n",
    "breaksLog = np.array([log(borne_inf) + k*(log(borne_sup)-log(borne_inf))/nbCoupures for k in range(nbCoupures+1)])\n",
    "taus = np.exp(breaksLog)\n",
    "taus"
   ]
  },
  {
   "cell_type": "code",
   "execution_count": 21,
   "metadata": {},
   "outputs": [
    {
     "name": "stdout",
     "output_type": "stream",
     "text": [
      "1\n",
      "0.029999999999999995\n",
      "Training the CatBoost model...\n",
      "Predicting on the test set...\n",
      "Confusion matrix :\n",
      "0.05381884571241647\n",
      "Training the CatBoost model...\n",
      "Predicting on the test set...\n",
      "Confusion matrix :\n",
      "0.09654893846056296\n",
      "Training the CatBoost model...\n",
      "Predicting on the test set...\n",
      "Confusion matrix :\n",
      "0.17320508075688767\n",
      "Training the CatBoost model...\n",
      "Predicting on the test set...\n",
      "Confusion matrix :\n",
      "0.31072325059538586\n",
      "Training the CatBoost model...\n",
      "Predicting on the test set...\n",
      "Confusion matrix :\n",
      "0.5574255561017865\n",
      "Training the CatBoost model...\n",
      "Predicting on the test set...\n",
      "Confusion matrix :\n",
      "0.9999999999999996\n",
      "Training the CatBoost model...\n",
      "Predicting on the test set...\n",
      "Confusion matrix :\n",
      "[0 0 0 0 0 0]\n",
      "[63.4, 47.9, 28.6, 22.4, 8.7, 3.4, 0.2]\n",
      "[63.4 47.9 28.6 22.4  8.7  3.4  0.2]\n"
     ]
    },
    {
     "ename": "ValueError",
     "evalue": "operands could not be broadcast together with shapes (6,) (7,) ",
     "output_type": "error",
     "traceback": [
      "\u001b[1;31m---------------------------------------------------------------------------\u001b[0m",
      "\u001b[1;31mValueError\u001b[0m                                Traceback (most recent call last)",
      "\u001b[1;32m~\\AppData\\Local\\Temp/ipykernel_22344/694444838.py\u001b[0m in \u001b[0;36m<module>\u001b[1;34m\u001b[0m\n\u001b[1;32m----> 1\u001b[1;33m \u001b[0mexperimentMeilleurTau\u001b[0m\u001b[1;33m(\u001b[0m\u001b[0mtaus\u001b[0m\u001b[1;33m,\u001b[0m \u001b[0mN\u001b[0m\u001b[1;33m)\u001b[0m\u001b[1;33m\u001b[0m\u001b[1;33m\u001b[0m\u001b[0m\n\u001b[0m",
      "\u001b[1;32m~\\AppData\\Local\\Temp/ipykernel_22344/2732580678.py\u001b[0m in \u001b[0;36mexperimentMeilleurTau\u001b[1;34m(taus, N)\u001b[0m\n\u001b[0;32m     12\u001b[0m         \u001b[0mprint\u001b[0m\u001b[1;33m(\u001b[0m\u001b[0mresExp\u001b[0m\u001b[1;33m[\u001b[0m\u001b[1;34m\"p\"\u001b[0m\u001b[1;33m]\u001b[0m\u001b[1;33m)\u001b[0m\u001b[1;33m\u001b[0m\u001b[1;33m\u001b[0m\u001b[0m\n\u001b[0;32m     13\u001b[0m         \u001b[0mprint\u001b[0m\u001b[1;33m(\u001b[0m\u001b[0mnp\u001b[0m\u001b[1;33m.\u001b[0m\u001b[0marray\u001b[0m\u001b[1;33m(\u001b[0m\u001b[0mresExp\u001b[0m\u001b[1;33m[\u001b[0m\u001b[1;34m\"p\"\u001b[0m\u001b[1;33m]\u001b[0m\u001b[1;33m)\u001b[0m\u001b[1;33m)\u001b[0m\u001b[1;33m\u001b[0m\u001b[1;33m\u001b[0m\u001b[0m\n\u001b[1;32m---> 14\u001b[1;33m         \u001b[0mprecisions\u001b[0m \u001b[1;33m=\u001b[0m \u001b[0mprecisions\u001b[0m \u001b[1;33m+\u001b[0m \u001b[0mnp\u001b[0m\u001b[1;33m.\u001b[0m\u001b[0marray\u001b[0m\u001b[1;33m(\u001b[0m\u001b[0mresExp\u001b[0m\u001b[1;33m[\u001b[0m\u001b[1;34m\"p\"\u001b[0m\u001b[1;33m]\u001b[0m\u001b[1;33m)\u001b[0m\u001b[1;33m\u001b[0m\u001b[1;33m\u001b[0m\u001b[0m\n\u001b[0m\u001b[0;32m     15\u001b[0m         \u001b[0mrecalls\u001b[0m \u001b[1;33m=\u001b[0m \u001b[0mrecalls\u001b[0m \u001b[1;33m+\u001b[0m \u001b[0mnp\u001b[0m\u001b[1;33m.\u001b[0m\u001b[0marray\u001b[0m\u001b[1;33m(\u001b[0m\u001b[0mresExp\u001b[0m\u001b[1;33m[\u001b[0m\u001b[1;34m\"r\"\u001b[0m\u001b[1;33m]\u001b[0m\u001b[1;33m)\u001b[0m\u001b[1;33m\u001b[0m\u001b[1;33m\u001b[0m\u001b[0m\n\u001b[0;32m     16\u001b[0m         \u001b[0mF1scores\u001b[0m \u001b[1;33m=\u001b[0m \u001b[0mF1scores\u001b[0m \u001b[1;33m+\u001b[0m \u001b[0mnp\u001b[0m\u001b[1;33m.\u001b[0m\u001b[0marray\u001b[0m\u001b[1;33m(\u001b[0m\u001b[0mresExp\u001b[0m\u001b[1;33m[\u001b[0m\u001b[1;34m\"F\"\u001b[0m\u001b[1;33m]\u001b[0m\u001b[1;33m)\u001b[0m\u001b[1;33m\u001b[0m\u001b[1;33m\u001b[0m\u001b[0m\n",
      "\u001b[1;31mValueError\u001b[0m: operands could not be broadcast together with shapes (6,) (7,) "
     ]
    }
   ],
   "source": [
    "experimentMeilleurTau(taus, N)"
   ]
  }
 ],
 "metadata": {
  "kernelspec": {
   "display_name": "Python 3.7.8 64-bit",
   "language": "python",
   "name": "python3"
  },
  "language_info": {
   "codemirror_mode": {
    "name": "ipython",
    "version": 3
   },
   "file_extension": ".py",
   "mimetype": "text/x-python",
   "name": "python",
   "nbconvert_exporter": "python",
   "pygments_lexer": "ipython3",
   "version": "3.7.8"
  },
  "orig_nbformat": 4,
  "vscode": {
   "interpreter": {
    "hash": "5109d816b82be14675a6b11f8e0f0d2e80f029176ed3710d54e125caa8520dfd"
   }
  }
 },
 "nbformat": 4,
 "nbformat_minor": 2
}
